{
 "cells": [
  {
   "cell_type": "markdown",
   "metadata": {
    "id": "CcUT6Fon_qRE"
   },
   "source": [
    "### Required Assignment 5.1: Will the Customer Accept the Coupon?\n",
    "\n",
    "**Context**\n",
    "\n",
    "Imagine driving through town and a coupon is delivered to your cell phone for a restaurant near where you are driving. Would you accept that coupon and take a short detour to the restaurant? Would you accept the coupon but use it on a subsequent trip? Would you ignore the coupon entirely? What if the coupon was for a bar instead of a restaurant? What about a coffee house? Would you accept a bar coupon with a minor passenger in the car? What about if it was just you and your partner in the car? Would weather impact the rate of acceptance? What about the time of day?\n",
    "\n",
    "Obviously, proximity to the business is a factor on whether the coupon is delivered to the driver or not, but what are the factors that determine whether a driver accepts the coupon once it is delivered to them? How would you determine whether a driver is likely to accept a coupon?\n",
    "\n",
    "**Overview**\n",
    "\n",
    "The goal of this project is to use what you know about visualizations and probability distributions to distinguish between customers who accepted a driving coupon versus those that did not.\n",
    "\n",
    "**Data**\n",
    "\n",
    "This data comes to us from the UCI Machine Learning repository and was collected via a survey on Amazon Mechanical Turk. The survey describes different driving scenarios including the destination, current time, weather, passenger, etc., and then ask the person whether he will accept the coupon if he is the driver. Answers that the user will drive there ‘right away’ or ‘later before the coupon expires’ are labeled as ‘Y = 1’ and answers ‘no, I do not want the coupon’ are labeled as ‘Y = 0’.  There are five different types of coupons -- less expensive restaurants (under \\$20), coffee houses, carry out & take away, bar, and more expensive restaurants (\\$20 - $50)."
   ]
  },
  {
   "cell_type": "markdown",
   "metadata": {
    "id": "1wORvMBJ_qRF"
   },
   "source": [
    "**Deliverables**\n",
    "\n",
    "Your final product should be a brief report that highlights the differences between customers who did and did not accept the coupons.  To explore the data you will utilize your knowledge of plotting, statistical summaries, and visualization using Python. You will publish your findings in a public facing github repository as your first portfolio piece.\n",
    "\n",
    "\n",
    "\n"
   ]
  },
  {
   "cell_type": "markdown",
   "metadata": {
    "id": "pG6_Ym6q_qRG"
   },
   "source": [
    "### Data Description\n",
    "Keep in mind that these values mentioned below are average values.\n",
    "\n",
    "The attributes of this data set include:\n",
    "1. User attributes\n",
    "    -  Gender: male, female\n",
    "    -  Age: below 21, 21 to 25, 26 to 30, etc.\n",
    "    -  Marital Status: single, married partner, unmarried partner, or widowed\n",
    "    -  Number of children: 0, 1, or more than 1\n",
    "    -  Education: high school, bachelors degree, associates degree, or graduate degree\n",
    "    -  Occupation: architecture & engineering, business & financial, etc.\n",
    "    -  Annual income: less than \\\\$12500, \\\\$12500 - \\\\$24999, \\\\$25000 - \\\\$37499, etc.\n",
    "    -  Number of times that he/she goes to a bar: 0, less than 1, 1 to 3, 4 to 8 or greater than 8\n",
    "    -  Number of times that he/she buys takeaway food: 0, less than 1, 1 to 3, 4 to 8 or greater\n",
    "    than 8\n",
    "    -  Number of times that he/she goes to a coffee house: 0, less than 1, 1 to 3, 4 to 8 or\n",
    "    greater than 8\n",
    "    -  Number of times that he/she eats at a restaurant with average expense less than \\\\$20 per\n",
    "    person: 0, less than 1, 1 to 3, 4 to 8 or greater than 8\n",
    "    -  Number of times that he/she goes to a bar: 0, less than 1, 1 to 3, 4 to 8 or greater than 8\n",
    "    \n",
    "\n",
    "2. Contextual attributes\n",
    "    - Driving destination: home, work, or no urgent destination\n",
    "    - Location of user, coupon and destination: we provide a map to show the geographical\n",
    "    location of the user, destination, and the venue, and we mark the distance between each\n",
    "    two places with time of driving. The user can see whether the venue is in the same\n",
    "    direction as the destination.\n",
    "    - Weather: sunny, rainy, or snowy\n",
    "    - Temperature: 30F, 55F, or 80F\n",
    "    - Time: 10AM, 2PM, or 6PM\n",
    "    - Passenger: alone, partner, kid(s), or friend(s)\n",
    "\n",
    "\n",
    "3. Coupon attributes\n",
    "    - time before it expires: 2 hours or one day"
   ]
  },
  {
   "cell_type": "code",
   "execution_count": null,
   "metadata": {
    "id": "dzNoP3o__qRG"
   },
   "outputs": [],
   "source": [
    "import matplotlib.pyplot as plt\n",
    "import seaborn as sns\n",
    "import pandas as pd\n",
    "import numpy as np\n",
    "import re"
   ]
  },
  {
   "cell_type": "markdown",
   "metadata": {
    "id": "Ct8pI1uE_qRG"
   },
   "source": [
    "### Problems\n",
    "\n",
    "Use the prompts below to get started with your data analysis.  \n",
    "\n",
    "1. Read in the `coupons.csv` file.\n",
    "\n",
    "\n"
   ]
  },
  {
   "cell_type": "code",
   "execution_count": null,
   "metadata": {
    "id": "X0vbffYg_qRH"
   },
   "outputs": [],
   "source": [
    "data = pd.read_csv('data/coupons.csv')"
   ]
  },
  {
   "cell_type": "code",
   "execution_count": null,
   "metadata": {
    "id": "TXofQ_DF_qRH",
    "outputId": "2fc96a2c-1112-4b54-f24f-dbb9bc88abfb"
   },
   "outputs": [],
   "source": [
    "data.head()"
   ]
  },
  {
   "cell_type": "markdown",
   "metadata": {
    "id": "GcDs78ZH_qRH"
   },
   "source": [
    "2. Investigate the dataset for missing or problematic data."
   ]
  },
  {
   "cell_type": "code",
   "execution_count": null,
   "metadata": {
    "id": "6CwL6oWj_qRH"
   },
   "outputs": [],
   "source": [
    "## Basic shape & types\n",
    "print(\"Shape:\", data.shape)\n",
    "print(\"\\nDtypes:\\n\", data.dtypes)\n",
    "\n",
    "## Find duplicate rows countDuplicate rows\n",
    "dupe_count = data.duplicated().sum()\n",
    "print(\"Duplicate rows:\", dupe_count)\n",
    "\n",
    "## List all NaN and None values\n",
    "# This will first find all NaN or None values and flag as True or False.\n",
    "# Then it will SUM all the false rows for \"Each\" column \n",
    "# And finally create one-column DataFrame \"missing_count\" and list the count\n",
    "data_with_miss = data.isna().sum().to_frame(\"missing_count\")\n",
    "\n",
    "# Now add the missing percentage for each missing counts\n",
    "data_with_miss[\"missing_percent\"] = (data_with_miss[\"missing_count\"] / len(data) * 100).round(2)\n",
    "\n",
    "# Sorts the missingness table so the columns with the most missing values appear first.\n",
    "data_with_miss = data_with_miss.sort_values(\"missing_count\", ascending=False)\n",
    "\n",
    "# Print Top 20\n",
    "print(data_with_miss.head(20))\n",
    "\n",
    "## Set Index\n",
    "data_with_miss.index.name = \"column\"\n",
    "\n",
    "## Draw Barplot\n",
    "\n",
    "# Use Seaborn BarPlot to draw the Barplot\n",
    "plt.figure(figsize=(10, 8))\n",
    "sns.barplot(data=data_with_miss, x=\"missing_percent\", y=\"column\")\n",
    "plt.title(\"Missing % by Column\")\n",
    "plt.xlabel(\"Missing %\")\n",
    "plt.ylabel(\"Columns\")\n",
    "plt.tight_layout()\n",
    "plt.show()\n",
    "\n",
    "# Using Matplotlib to create  the barplot\n",
    "plt.figure(figsize=(10, 8))\n",
    "data_with_miss[\"missing_percent\"].sort_values(ascending=False).head(20).plot(kind=\"bar\")\n",
    "plt.title(\"Top 20 Columns by Missing %\")\n",
    "plt.ylabel(\"Missing %\")\n",
    "plt.tight_layout()\n",
    "plt.show()\n",
    "\n",
    "\n",
    "## Find and filter null-like strings as below\n",
    "NULL_LIKE = {\"\", \" \", \"NA\", \"N/A\", \"na\", \"NaN\", \"None\", \"?\", \"-\", \"--\", \"Unknown\"}\n",
    "\n",
    "print(data.dtypes)\n",
    "hidden_counts = {}\n",
    "for c in data.columns:\n",
    "    if data[c].dtype == \"object\":\n",
    "        s = data[c].astype(str).str.strip()\n",
    "        hidden_counts[c] = int(s.isin(NULL_LIKE).sum())\n",
    "\n",
    "print(hidden_counts)"
   ]
  },
  {
   "cell_type": "markdown",
   "metadata": {
    "id": "bSdVSpYB_qRH"
   },
   "source": [
    "3. Decide what to do about your missing data -- drop, replace, other..."
   ]
  },
  {
   "cell_type": "code",
   "execution_count": null,
   "metadata": {
    "id": "tyvoAC5F_qRI"
   },
   "outputs": [],
   "source": [
    "## Find and remove rows\n",
    "df = data.drop_duplicates()\n",
    "print(data.head())\n",
    "\n",
    "# Check unique columns records for better data understanding, preserves NaN if present\n",
    "# This will help visually show any data discrepancy\n",
    "cols = [\"destination\",\n",
    "        \"passanger\",\n",
    "        \"weather\",\n",
    "        \"temperature\",\n",
    "        \"time\",\n",
    "        \"coupon\",\n",
    "        \"expiration\",\n",
    "        \"gender\",\n",
    "        \"age\",\n",
    "        \"maritalStatus\",\n",
    "        \"has_children\",\n",
    "        \"education\",\n",
    "        \"occupation\",\n",
    "        \"income\",\n",
    "        \"car\",\n",
    "        \"Bar\",\n",
    "        \"CoffeeHouse\",\n",
    "        \"CarryAway\",\n",
    "        \"RestaurantLessThan20\",\n",
    "        \"Restaurant20To50\",\n",
    "        \"toCoupon_GEQ5min\",\n",
    "        \"toCoupon_GEQ15min\",\n",
    "        \"toCoupon_GEQ25min\",\n",
    "        \"direction_same\",\n",
    "        \"direction_opp\",\n",
    "        \"Y\"]\n",
    "for col in cols:\n",
    "    uniq_col_df = df[[col]].drop_duplicates().reset_index(drop=True)\n",
    "    print(\"\\nColumn Name:\"+ col +\"\\n\", uniq_col_df)\n",
    "    \n",
    "\n",
    "# Original DataFrame duplicate count\n",
    "print(\"\\nDuplicate rows:\", data.duplicated().sum())\n",
    "\n",
    "# Check for no duplicate DataFrame count\n",
    "dupe_count = df.duplicated().sum()\n",
    "if dupe_count == 0:\n",
    "    print(\"*** No duplicate rows ***\")\n",
    "else:\n",
    "    print(f\"{dupe_count} duplicate rows found ❗\")\n",
    "\n",
    "## 5) Find and filter null-like strings as below\n",
    "NULL_LIKE = {\"\", \" \", \"NA\", \"N/A\", \"na\", \"NaN\", \"None\", \"?\", \"-\", \"--\", \"Unknown\"}\n",
    "for c in df.columns:\n",
    "    if df[c].dtype == \"object\":\n",
    "        s = df[c].astype(str).str.strip()\n",
    "        df.loc[s.isin(NULL_LIKE), c] = np.nan\n",
    "\n",
    "## Implement above ....."
   ]
  },
  {
   "cell_type": "markdown",
   "metadata": {
    "id": "YE6oJbXd_qRI"
   },
   "source": [
    "4. What proportion of the total observations chose to accept the coupon?\n",
    "\n"
   ]
  },
  {
   "cell_type": "code",
   "execution_count": null,
   "metadata": {
    "id": "86GGqBTv_qRI"
   },
   "outputs": [],
   "source": [
    "# Proportion of observations that accepted the coupon (Y=1)\n",
    "\n",
    "# Coerce column Y to a numeric value and NaN\n",
    "yval = pd.to_numeric(data[\"Y\"], errors=\"coerce\")\n",
    "\n",
    "# Drop NaNs from a Series\n",
    "yval = yval.dropna()\n",
    "\n",
    "# Confirm 0-1\n",
    "print(yval.unique())\n",
    "\n",
    "# Calculate proportion among rows where Y is present/valid\n",
    "total_valid_rows = yval.notna().sum()\n",
    "print(f\"Total Valid Rows: {total_valid_rows}\")\n",
    "\n",
    "accepted_coupon_count = (yval == 1).sum()\n",
    "print(f\"Coupon Accepted (Y=1): {accepted_coupon_count}\")\n",
    "\n",
    "prop_accept = accepted_coupon_count / total_valid_rows\n",
    "\n",
    "## What proportion of the total observations chose to accept the coupon?\n",
    "print(f\"Proportion accepted: {prop_accept:.4f}, Proportion % accepted: {prop_accept * 100:.2f}%\")"
   ]
  },
  {
   "cell_type": "markdown",
   "metadata": {
    "id": "vflz0DoE_qRI"
   },
   "source": [
    "5. Use a bar plot to visualize the `coupon` column."
   ]
  },
  {
   "cell_type": "code",
   "execution_count": null,
   "metadata": {},
   "outputs": [],
   "source": [
    "# Checking Unique records to make sure there is no duplicate coupons \n",
    "df[\"coupon\"].unique()\n",
    "\n",
    "# value_counts drops NaN by default.\n",
    "#count = df[\"coupon\"].value_counts().reset_index()\n",
    "counts = df.groupby(\"coupon\").size().sort_values(ascending=False).reset_index(name=\"count\")\n",
    "\n",
    "# Total Coupon Count\n",
    "total_count = counts[\"count\"].sum()\n",
    "\n",
    "counts[\"percent\"] = ((counts[\"count\"] / total_count)* 100).round(2)\n",
    "\n",
    "# Sort by count desc for a tidy plot\n",
    "counts = counts.sort_values(\"count\", ascending=False)\n",
    "\n",
    "## Draw the barplot\n",
    "plt.figure(figsize=(10, 4))\n",
    "ax = sns.barplot(data=counts, x=\"count\", y=\"coupon\", orient=\"h\")\n",
    "\n",
    "ax.set_title(\"Coupon Type Distribution\")\n",
    "ax.set_xlabel(\"Count\")\n",
    "ax.set_ylabel(\"Coupons\")\n",
    "\n",
    "# Add % labels at bar ends\n",
    "for i, row in counts.iterrows():\n",
    "    ax.text(row[\"count\"], i, f\"  {row['percent']:.2f}%\", va=\"center\")\n",
    "\n",
    "plt.tight_layout()\n",
    "plt.show()\n"
   ]
  },
  {
   "cell_type": "markdown",
   "metadata": {
    "id": "Qw4lCyx2_qRI"
   },
   "source": [
    "6. Use a histogram to visualize the temperature column."
   ]
  },
  {
   "cell_type": "code",
   "execution_count": null,
   "metadata": {},
   "outputs": [],
   "source": [
    "# Select non NaN values\n",
    "data_temp = pd.to_numeric(data[\"temperature\"], errors=\"coerce\").dropna()\n",
    "\n",
    "# Choose bin edges that bracket the discrete values 30, 55, 80\n",
    "bins = [25, 40, 60, 85]\n",
    "\n",
    "plt.figure(figsize=(10, 6))\n",
    "plt.hist(data_temp, bins=bins, edgecolor=\"red\", rwidth=0.5)\n",
    "\n",
    "plt.title(\"Temperature Distribution\")\n",
    "plt.xlabel(\"Temperature (F)\")\n",
    "plt.ylabel(\"Count\")\n",
    "plt.tight_layout()\n",
    "plt.show()\n"
   ]
  },
  {
   "cell_type": "code",
   "execution_count": null,
   "metadata": {
    "id": "zLtOaJQk_qRI"
   },
   "outputs": [],
   "source": []
  },
  {
   "cell_type": "markdown",
   "metadata": {
    "id": "FupfgeJk_qRJ"
   },
   "source": [
    "**Investigating the Bar Coupons**\n",
    "\n",
    "Now, we will lead you through an exploration of just the bar related coupons.  \n",
    "\n",
    "1. Create a new `DataFrame` that contains just the bar coupons.\n"
   ]
  },
  {
   "cell_type": "code",
   "execution_count": null,
   "metadata": {
    "id": "tMBlWuGq_qRJ"
   },
   "outputs": [],
   "source": [
    "bar_coupons = df[df[\"coupon\"].str.contains(\"Bar\", case=False, na=False)]\n",
    "total_bar_count = bar_coupons[\"coupon\"].size\n",
    "print(total_bar_count)"
   ]
  },
  {
   "cell_type": "markdown",
   "metadata": {
    "id": "8ue6uCqf_qRJ"
   },
   "source": [
    "2. What proportion of bar coupons were accepted?\n"
   ]
  },
  {
   "cell_type": "code",
   "execution_count": null,
   "metadata": {
    "id": "hSdte8Mi_qRK"
   },
   "outputs": [],
   "source": [
    "# Coerce column Y to a numeric value and NaN\n",
    "accepted_bar_coupons = pd.to_numeric(bar_coupons[\"Y\"], errors=\"coerce\") == 1\n",
    "accepted_bar_coupons_count = accepted_bar_coupons.sum()\n",
    "\n",
    "# Found the accepted proportion of bar coupons \n",
    "bar_proportion = accepted_bar_coupons_count/total_bar_count\n",
    "\n",
    "# What proportion of bar coupons were accepted?\n",
    "print(f\"Proportion accepted: {bar_proportion:.4f}, Proportion % accepted: {bar_proportion * 100:.2f}%\")"
   ]
  },
  {
   "cell_type": "markdown",
   "metadata": {
    "id": "85nA_iEi_qRK"
   },
   "source": [
    "3. Compare the acceptance rate between those who went to a bar 3 or fewer times a month to those who went more.\n"
   ]
  },
  {
   "cell_type": "code",
   "execution_count": null,
   "metadata": {},
   "outputs": [],
   "source": [
    "# Define bar counts\n",
    "less_than_3 = [\"less1\", \"1~3\"]\n",
    "more_than_3 = [\"gt8\", \"4~8\"]\n",
    "\n",
    "# Total count bar matches for less than 3\n",
    "total_bar_less3_count = bar_coupons[\"Bar\"].isin(less_than_3).sum()\n",
    "#print(total_bar_less3_count)\n",
    "\n",
    "# Total count bar matches for less than 3 and coupons has been used\n",
    "bar_coupon_less3_count = (bar_coupons[\"Bar\"].isin(less_than_3) & (bar_coupons[\"Y\"] == 1)).sum()\n",
    "#print(bar_coupon_less3_count)\n",
    "\n",
    "# Total count bar matches for more than 3\n",
    "total_bar_more3_count = bar_coupons[\"Bar\"].isin(more_than_3).sum()\n",
    "#print(total_bar_more3_count)\n",
    "\n",
    "# Total count bar matches for more than 3 and coupons has been used\n",
    "bar_coupon_more3_count = (bar_coupons[\"Bar\"].isin(more_than_3) & (bar_coupons[\"Y\"] == 1)).sum()\n",
    "#print(bar_coupon_more3_count)\n",
    "\n",
    "acceptance_rate_less = (bar_coupon_less3_count/total_bar_less3_count) * 100\n",
    "acceptance_rate_more = (bar_coupon_more3_count/total_bar_more3_count) * 100\n",
    "                         \n",
    "print(f\"<=3/month: {bar_coupon_less3_count}/{total_bar_less3_count} = {acceptance_rate_less:.2f}%\")\n",
    "print(f\">3/month: {bar_coupon_more3_count}/{total_bar_more3_count} = {acceptance_rate_more:.2f}%\")"
   ]
  },
  {
   "cell_type": "markdown",
   "metadata": {
    "id": "RBgcQwH4_qRK"
   },
   "source": [
    "4. Compare the acceptance rate between drivers who go to a bar more than once a month and are over the age of 25 to the all others.  Is there a difference?\n"
   ]
  },
  {
   "cell_type": "code",
   "execution_count": null,
   "metadata": {
    "id": "bf28bbeX_qRK"
   },
   "outputs": [],
   "source": [
    "# Define bar counts as >1/month\n",
    "more_than_1 = [\"1~3\", \"gt8\", \"4~8\"]\n",
    "\n",
    "## >1/month & age>25\n",
    "# Total count bar matches for more than 1 and the age is over 25\n",
    "bar_coupon_more1_count = (bar_coupons[\"Bar\"].isin(more_than_1) & (pd.to_numeric(bar_coupons[\"age\"], errors=\"coerce\") > 25)).sum()\n",
    "\n",
    "# Total count bar matches for more than 1 and the age is over 25 and coupon expected\n",
    "bar_coupon_more1_accepted_count = (bar_coupons[\"Bar\"].isin(more_than_1) & (pd.to_numeric(bar_coupons[\"age\"], errors=\"coerce\") > 25) & (bar_coupons[\"Y\"] == 1)).sum()\n",
    "\n",
    "acceptance_rate4a_ratio = bar_coupon_more1_accepted_count/bar_coupon_more1_count\n",
    "                                  \n",
    "print(f\">1/month & age>25: {bar_coupon_more1_accepted_count}/{bar_coupon_more1_count} = {acceptance_rate4a_ratio:.2%}\")\n",
    "\n",
    "## ALL Others\n",
    "# Total count bar NOT matches for more than 1 and the age is NOT over 25\n",
    "bar_coupon_all_others = ~(bar_coupons[\"Bar\"].isin(more_than_1) & (pd.to_numeric(bar_coupons[\"age\"], errors=\"coerce\") > 25))\n",
    "\n",
    "# Total count bar matches for more than 1 and the age is over 25 and coupon expected\n",
    "bar_coupon_allothers_accepted = ((bar_coupon_all_others) & (bar_coupons[\"Y\"] == 1))\n",
    "\n",
    "acceptance_rate4b_ratio = bar_coupon_allothers_accepted.sum()/bar_coupon_all_others.sum()\n",
    "\n",
    "print(f\"All others: {bar_coupon_allothers_accepted.sum()}/{bar_coupon_all_others.sum()} = {acceptance_rate4b_ratio:.2%}\")"
   ]
  },
  {
   "cell_type": "markdown",
   "metadata": {
    "id": "S4RKT4PJ_qRK"
   },
   "source": [
    "5. Use the same process to compare the acceptance rate between drivers who go to bars more than once a month and had passengers that were not a kid and had occupations other than farming, fishing, or forestry.\n"
   ]
  },
  {
   "cell_type": "code",
   "execution_count": null,
   "metadata": {
    "id": "sENaI2Tg_qRK"
   },
   "outputs": [],
   "source": [
    "\n",
    "\n",
    "## Drivers who go to bars more than once a month\n",
    "drivers_more_than1 = bar_coupons[\"Bar\"].isin(more_than_1)\n",
    "                      \n",
    "## Drivers who have passengers as kids\n",
    "# Total count bar matches for more than 1 and has no childeren\n",
    "drivers_no_kids = (pd.to_numeric(bar_coupons[\"has_children\"], errors=\"coerce\") == 0)\n",
    "\n",
    "## Occupations other than farming, fishing, or forestry\n",
    "drivers_not_farm_fish_forest = ~bar_coupons[\"occupation\"].str.contains(r\"farm|fish|forest\", na=False)\n",
    "\n",
    "# Drivers more then 1 month & no kids & non-farm/fish/forest\n",
    "drivers_more_than1_no_kids_occu = (drivers_more_than1 & drivers_no_kids & drivers_not_farm_fish_forest).sum()\n",
    "#print(drivers_more_than1_no_kids_occu)\n",
    "\n",
    "# Drivers with All others\n",
    "drivers_more_than1_no_kids_all_othr_occu = (~(drivers_more_than1 & drivers_no_kids & drivers_not_farm_fish_forest)).sum()\n",
    "#print(drivers_more_than1_no_kids_all_othr_occu)\n",
    "\n",
    "acceptance_rate5_ratio = drivers_more_than1_no_kids_occu/drivers_more_than1_no_kids_all_othr_occu\n",
    "\n",
    "print(f\">1/mo & has_children==0 & non-farm/fish/forest: {drivers_more_than1_no_kids_occu}/{drivers_more_than1_no_kids_all_othr_occu} = {acceptance_rate5_ratio:.2%}\")\n"
   ]
  },
  {
   "cell_type": "markdown",
   "metadata": {
    "id": "n2LIUTil_qRK"
   },
   "source": [
    "6. Compare the acceptance rates between those drivers who:\n",
    "\n",
    "- go to bars more than once a month, had passengers that were not a kid, and were not widowed *OR*\n",
    "- go to bars more than once a month and are under the age of 30 *OR*\n",
    "- go to cheap restaurants more than 4 times a month and income is less than 50K.\n",
    "\n"
   ]
  },
  {
   "cell_type": "code",
   "execution_count": null,
   "metadata": {
    "id": "aK_wEzx7_qRK"
   },
   "outputs": [],
   "source": [
    "\n",
    "\n",
    "## Drivers were not widowed\n",
    "drivers_marital_status = bar_coupons[\"maritalStatus\"].str.contains(\"Widowed\")\n",
    "#print(drivers_marital_status.sum())\n",
    "\n",
    "## Drivers go to bars more than once a month and are under the age of 30 \n",
    "drivers_under_age_30 = (pd.to_numeric(bar_coupons[\"age\"], errors=\"coerce\") < 30)\n",
    "#print(drivers_under_age_30.sum())\n",
    "\n",
    "## Drivers go to cheap restaurants more than 4 times a month\n",
    "more_than_4 = [\"gt8\", \"4~8\"]\n",
    "drivers_go_to_rest_20 = bar_coupons[\"RestaurantLessThan20\"].isin(more_than_1)\n",
    "#print(drivers_go_to_rest_20)\n",
    "\n",
    "## Drivers Income less than 50K \n",
    "bar_coupons = bar_coupons.copy()\n",
    "income_range = bar_coupons[\"income\"].astype(\"string\")\n",
    "\n",
    "def parse_salary_range(label: str):\n",
    "    s = label.replace(\",\", \"\").lower()\n",
    "    # finds all runs of digits in the string s\n",
    "    # converts each of those digit strings to integers.\n",
    "    nums = list(map(int, re.findall(r\"\\d+\", s)))\n",
    "    if s.startswith(\"less than\"):\n",
    "        return 0, nums[0]                 # [0, upper)\n",
    "    if \"or more\" in s:\n",
    "        return nums[0], np.inf            # [lower, ∞)\n",
    "    return nums[0], nums[1]               # [lower, upper]\n",
    "    \n",
    "# Expand the (lower, upper) into two columns and assign\n",
    "bar_coupons[[\"lower\", \"upper\"]] = income_range.apply(parse_salary_range).apply(pd.Series)\n",
    "\n",
    "#print(bar_coupons[[\"income\", \"lower\", \"upper\"]].head(10))\n",
    "\n",
    "mask_lt_50k = bar_coupons[\"upper\"] < 50000\n",
    "\n",
    "#print(mask_lt_50k)\n",
    "\n",
    "## Now process go to bars more than once a month, had passengers that were not a kid, and were not widowed OR\n",
    "## go to bars more than once a month and are under the age of 30 OR\n",
    "## go to cheap restaurants more than 4 times a month and income is less than 50K.\n",
    "\n",
    "acceptance_rate6 = (drivers_more_than1 & drivers_no_kids & drivers_marital_status) | (drivers_more_than1 & drivers_under_age_30) | (drivers_go_to_rest_20 & mask_lt_50k)\n",
    "\n",
    "not_acceptance_rate6 = ~acceptance_rate6\n",
    "\n",
    "#print(acceptance_rate6.sum())\n",
    "#print(not_acceptance_rate6.sum())\n",
    "\n",
    "acceptance_rate6_ratio = acceptance_rate6.sum()/not_acceptance_rate6.sum()\n",
    "\n",
    "print(f\"Compare Acceptance Rate: {acceptance_rate6.sum()}/{not_acceptance_rate6.sum()} = {acceptance_rate6_ratio:.2%}\")\n"
   ]
  },
  {
   "cell_type": "markdown",
   "metadata": {
    "id": "v3fL3QkO_qRK"
   },
   "source": [
    "7.  Based on these observations, what do you hypothesize about drivers who accepted the bar coupons?"
   ]
  },
  {
   "cell_type": "code",
   "execution_count": null,
   "metadata": {
    "id": "Y48naDFh_qRL"
   },
   "outputs": [],
   "source": [
    "# Hypothesis: Habitual bar-goers (especially 25+ adults) drive acceptance\n",
    "\n",
    "# Drivers who visit bars regularly are the ones most likely to redeem bar coupons, with acceptance jumping from about 52.81% (<=3/month) to 76.88% (>3×/month). \n",
    "# Among people who go more than once a month, being over 25 further boosts acceptance to 69.97% versus 34.82% for everyone else. \n",
    "# In short, the coupon works best as a nudge for an existing habit rather than a trigger for a new behavior."
   ]
  },
  {
   "cell_type": "markdown",
   "metadata": {
    "id": "r4Hu1zOb_qRL"
   },
   "source": [
    "### Independent Investigation\n",
    "\n",
    "Using the bar coupon example as motivation, you are to explore one of the other coupon groups and try to determine the characteristics of passengers who accept the coupons.  "
   ]
  },
  {
   "cell_type": "code",
   "execution_count": null,
   "metadata": {
    "id": "0c71cQhu_qRL",
    "scrolled": true
   },
   "outputs": [],
   "source": [
    "# Coffee gowers visitied less1 and accepted copuon\n",
    "visits_less1 = [\"less1\"]\n",
    "coffee_coupon_less1 = ((bar_coupons[\"CoffeeHouse\"].isin(visits_less1)) & (bar_coupons[\"Y\"] == 1)).sum()\n",
    "#print(coffee_coupon_less1)\n",
    "\n",
    "total_coffee_visit_less1 = (bar_coupons[\"CoffeeHouse\"].isin(visits_less1)).sum()\n",
    "#print(total_coffee_visit_less1)\n",
    "\n",
    "acceptance_rate_less1 = coffee_coupon_less1/total_coffee_visit_less1\n",
    "\n",
    "print(f\"Driver visiting less than 1, using coupons: {coffee_coupon_less1}/{total_coffee_visit_less1} = {acceptance_rate_less1:.2%}\")\n",
    "\n",
    "# Coffee gowers visitied 1~3 and accepted copuon\n",
    "visits_1_3 = [\"1~3\"]\n",
    "coffee_coupon_1_3 = ((bar_coupons[\"CoffeeHouse\"].isin(visits_1_3)) & (bar_coupons[\"Y\"] == 1)).sum()\n",
    "#print(coffee_coupon_1_3)\n",
    "\n",
    "total_coffee_visit_1_3 = (bar_coupons[\"CoffeeHouse\"].isin(visits_1_3)).sum()\n",
    "#print(total_coffee_visit_1_3)\n",
    "\n",
    "acceptance_rate_1_3 = coffee_coupon_1_3/total_coffee_visit_1_3\n",
    "\n",
    "print(f\"Driver visiting between 1 & 3, using coupons: {coffee_coupon_1_3}/{total_coffee_visit_1_3} = {acceptance_rate_1_3:.2%}\")\n",
    "\n",
    "# Coffee gowers visitied 4~8 and accepted copuon\n",
    "visits_4_8 = [\"4~8\"]\n",
    "coffee_coupon_4_8 = ((bar_coupons[\"CoffeeHouse\"].isin(visits_4_8)) & (bar_coupons[\"Y\"] == 1)).sum()\n",
    "#print(coffee_coupon_4_8)\n",
    "\n",
    "total_coffee_visit_4_8 = (bar_coupons[\"CoffeeHouse\"].isin(visits_4_8)).sum()\n",
    "#print(total_coffee_visit_4_8)\n",
    "\n",
    "acceptance_rate_4_8 = coffee_coupon_4_8/total_coffee_visit_4_8\n",
    "\n",
    "print(f\"Driver visiting between 4 & 8, using coupons: {coffee_coupon_4_8}/{total_coffee_visit_4_8} = {acceptance_rate_4_8:.2%}\")\n",
    "\n",
    "# Coffee gowers visitied gt8 and accepted copuon\n",
    "visits_gt8 = [\"gt8\"]\n",
    "coffee_coupon_gt8 = ((bar_coupons[\"CoffeeHouse\"].isin(visits_gt8)) & (bar_coupons[\"Y\"] == 1)).sum()\n",
    "#print(coffee_coupon_gt8)\n",
    "\n",
    "total_coffee_visit_gt8 = (bar_coupons[\"CoffeeHouse\"].isin(visits_gt8)).sum()\n",
    "#print(total_coffee_visit_gt8)\n",
    "\n",
    "acceptance_rate_gt8 = coffee_coupon_gt8/total_coffee_visit_gt8\n",
    "\n",
    "print(f\"Driver visiting grater than 8, using coupons: {coffee_coupon_gt8}/{total_coffee_visit_gt8} = {acceptance_rate_gt8:.2%}\")\n",
    "\n",
    "# Acceptance rises sharply from infrequent coffee visitors to moderate ones, then flattens. \n",
    "# Drivers who visit <1/month accept the least (37.6%). \n",
    "# Acceptance jumps for 1–3/month (46.7%) and stays about the same for 4–8/month (46.4%). \n",
    "# For >8/month, it dips slightly (44.8%), but that group is also the smallest sample.\n",
    "\n",
    "## Overall acceptance\n",
    "total_visits = [\"less1\", \"1~3\", \"4~8\", \"gt8\"]\n",
    "\n",
    "total_coffee_visits = (bar_coupons[\"CoffeeHouse\"].isin(total_visits)).sum()\n",
    "#print(total_coffee_visits)\n",
    "\n",
    "total_coffee_visits_with_coupon = ((bar_coupons[\"CoffeeHouse\"].isin(total_visits)) & (bar_coupons[\"Y\"] == 1)).sum()\n",
    "#print(total_coffee_visits_with_coupon)\n",
    "\n",
    "acceptance_rate_coffee = total_coffee_visits_with_coupon/total_coffee_visits\n",
    "\n",
    "print(f\"Overall Coffee House Coupon Acceptance: {total_coffee_visits_with_coupon}/{total_coffee_visits} = {acceptance_rate_coffee:.2%}\")\n"
   ]
  },
  {
   "cell_type": "code",
   "execution_count": null,
   "metadata": {},
   "outputs": [],
   "source": [
    "# Group by time with visit count and coupons accepted\n",
    "time_summary = (\n",
    "    bar_coupons.groupby(\"time\", dropna=False)\n",
    "        .agg(visit_count=(\"time\", \"size\"), coupon_accepted=(\"Y\", \"sum\"))\n",
    "        .reset_index()\n",
    ")\n",
    "\n",
    "# Total visit counts and coupon accepted\n",
    "total_visit_count = time_summary[\"visit_count\"].sum()\n",
    "total_coupon_accepted = time_summary[\"coupon_accepted\"].sum()\n",
    "\n",
    "#print(total_visit_count)\n",
    "#print(total_coupon_accepted)\n",
    "\n",
    "# Shares and acceptance rate\n",
    "time_summary[\"visit_percentage\"] = ((time_summary[\"visit_count\"] / total_visit_count) * 100 ).round(2)\n",
    "time_summary[\"ovarall_accepted_coupon\"] = ((time_summary[\"coupon_accepted\"] / total_coupon_accepted) * 100 ).round(2)\n",
    "time_summary[\"per_time_accepted_coupon\"] = ((time_summary[\"coupon_accepted\"] / time_summary[\"visit_count\"]) * 100 ).round(2)\n",
    "\n",
    "print(time_summary)\n"
   ]
  },
  {
   "cell_type": "code",
   "execution_count": null,
   "metadata": {},
   "outputs": [],
   "source": [
    "# Car chart: acceptance rate by time\n",
    "time_summar_sort = time_summary.sort_values(\"per_time_accepted_coupon\", ascending=False)\n",
    "plt.figure(figsize=(8,5))\n",
    "plt.bar(time_summar_sort[\"time\"].astype(str), time_summar_sort[\"per_time_accepted_coupon\"])\n",
    "plt.ylabel(\"Acceptance rate (%)\")\n",
    "plt.xlabel(\"Time\")\n",
    "plt.title(\"Coupon Acceptance Rate by Time\")\n",
    "plt.xticks(rotation=30, ha=\"right\")\n",
    "plt.tight_layout()\n",
    "plt.show()\n",
    "\n",
    "# Scatter plot quickly spot times that are both big and high-performing.\n",
    "plt.figure(figsize=(8,5))\n",
    "plt.scatter(time_summary[\"visit_count\"], time_summary[\"per_time_accepted_coupon\"],\n",
    "            s=time_summary[\"visit_count\"])\n",
    "plt.xlabel(\"Visit count\")\n",
    "plt.ylabel(\"Acceptance rate (%)\")\n",
    "plt.title(\"Time: Volume vs Acceptance Rate\")\n",
    "\n",
    "# Add labels\n",
    "for _, r in time_summary.iterrows():\n",
    "    plt.text(\n",
    "        r[\"visit_count\"],\n",
    "        r[\"per_time_accepted_coupon\"] + 0.5,\n",
    "        str(r[\"time\"]),\n",
    "        ha=\"center\",\n",
    "        va=\"bottom\",\n",
    "        fontsize=8\n",
    "    )\n",
    "\n",
    "plt.tight_layout()\n",
    "plt.show()\n",
    "\n",
    "# Counts view: accepted vs rejected by Time (stacked)\n",
    "time_summary_copy = time_summary.copy()\n",
    "\n",
    "time_summary_copy[\"rejected\"] = time_summary_copy[\"visit_count\"] - time_summary_copy[\"coupon_accepted\"]\n",
    "\n",
    "plt.figure(figsize=(8,5))\n",
    "plt.bar(time_summary_copy[\"time\"].astype(str), time_summary_copy[\"coupon_accepted\"], label=\"Accepted\")\n",
    "plt.bar(time_summary_copy[\"time\"].astype(str), time_summary_copy[\"rejected\"], bottom=time_summary_copy[\"coupon_accepted\"], label=\"Rejected\")\n",
    "plt.ylabel(\"Count\")\n",
    "plt.xlabel(\"Time\")\n",
    "plt.title(\"Accepted vs Rejected by Time\")\n",
    "plt.xticks(rotation=30, ha=\"right\")\n",
    "plt.legend()\n",
    "plt.tight_layout()\n",
    "plt.show()"
   ]
  },
  {
   "cell_type": "code",
   "execution_count": null,
   "metadata": {},
   "outputs": [],
   "source": [
    "# Group by passenger with visit count and coupons accepted\n",
    "passanger_summary = (\n",
    "    bar_coupons.groupby(\"passanger\", dropna=False)\n",
    "        .agg(visit_count=(\"passanger\", \"size\"), coupon_accepted=(\"Y\", \"sum\"))\n",
    "        .reset_index()\n",
    ")\n",
    "\n",
    "# Total visit counts and coupon accepted\n",
    "total_visit_count = passanger_summary[\"visit_count\"].sum()\n",
    "total_coupon_accepted = passanger_summary[\"coupon_accepted\"].sum()\n",
    "\n",
    "#print(total_visit_count)\n",
    "print(total_coupon_accepted)\n",
    "\n",
    "# Shares and acceptance rate\n",
    "passanger_summary[\"visit_percentage\"] = ((passanger_summary[\"visit_count\"] / total_visit_count) * 100 ).round(2)\n",
    "passanger_summary[\"ovarall_accepted_coupon\"] = ((passanger_summary[\"coupon_accepted\"] / total_coupon_accepted) * 100 ).round(2)\n",
    "passanger_summary[\"per_passanger_accepted_coupon\"] = ((passanger_summary[\"coupon_accepted\"] / passanger_summary[\"visit_count\"]) * 100 ).round(2)\n",
    "\n",
    "print(passanger_summary)"
   ]
  },
  {
   "cell_type": "code",
   "execution_count": null,
   "metadata": {},
   "outputs": [],
   "source": [
    "# Bar chart of acceptance rate by passenger\n",
    "passanger_summary_sort = passanger_summary.sort_values(\"per_passanger_accepted_coupon\", ascending=False)\n",
    "plt.figure(figsize=(8,5))\n",
    "plt.bar(passanger_summary_sort[\"passanger\"].astype(str), passanger_summary_sort[\"per_passanger_accepted_coupon\"])\n",
    "plt.ylabel(\"Acceptance rate (%)\")\n",
    "plt.xlabel(\"Passenger\")\n",
    "plt.title(\"Coupon Acceptance Rate by Passenger\")\n",
    "plt.xticks(rotation=30, ha=\"right\")\n",
    "plt.tight_layout()\n",
    "plt.show()\n",
    "\n",
    "# Bar chart of share of visits\n",
    "visit_percentage_sort = passanger_summary.sort_values(\"visit_percentage\", ascending=False)\n",
    "plt.figure(figsize=(8,5))\n",
    "plt.bar(visit_percentage_sort[\"passanger\"].astype(str), visit_percentage_sort[\"visit_percentage\"])\n",
    "plt.ylabel(\"Visit share (%)\")\n",
    "plt.xlabel(\"Passenger\")\n",
    "plt.title(\"Visit Share by Passenger\")\n",
    "plt.xticks(rotation=30, ha=\"right\")\n",
    "plt.tight_layout()\n",
    "plt.show()"
   ]
  },
  {
   "cell_type": "code",
   "execution_count": null,
   "metadata": {},
   "outputs": [],
   "source": [
    "# Group by expiration with visit count and coupons accepted\n",
    "expiration_summary = (\n",
    "    bar_coupons.groupby(\"expiration\", dropna=False)\n",
    "        .agg(visit_count=(\"expiration\", \"size\"), coupon_accepted=(\"Y\", \"sum\"))\n",
    "        .reset_index()\n",
    ")\n",
    "\n",
    "# Total visit counts and coupon accepted\n",
    "total_visit_count = expiration_summary[\"visit_count\"].sum()\n",
    "total_coupon_accepted = expiration_summary[\"coupon_accepted\"].sum()\n",
    "\n",
    "#print(total_visit_count)\n",
    "#print(total_coupon_accepted)\n",
    "\n",
    "# Shares and acceptance rate\n",
    "expiration_summary[\"visit_percentage\"] = ((expiration_summary[\"visit_count\"] / total_visit_count) * 100 ).round(2)\n",
    "expiration_summary[\"ovarall_accepted_coupon\"] = ((expiration_summary[\"coupon_accepted\"] / total_coupon_accepted) * 100 ).round(2)\n",
    "expiration_summary[\"per_passanger_accepted_coupon\"] = ((expiration_summary[\"coupon_accepted\"] / passanger_summary[\"visit_count\"]) * 100 ).round(2)\n",
    "\n",
    "print(expiration_summary)"
   ]
  },
  {
   "cell_type": "code",
   "execution_count": null,
   "metadata": {},
   "outputs": [],
   "source": []
  }
 ],
 "metadata": {
  "colab": {
   "provenance": []
  },
  "kernelspec": {
   "display_name": "Python 3 (ipykernel)",
   "language": "python",
   "name": "python3"
  },
  "language_info": {
   "codemirror_mode": {
    "name": "ipython",
    "version": 3
   },
   "file_extension": ".py",
   "mimetype": "text/x-python",
   "name": "python",
   "nbconvert_exporter": "python",
   "pygments_lexer": "ipython3",
   "version": "3.13.2"
  }
 },
 "nbformat": 4,
 "nbformat_minor": 4
}
