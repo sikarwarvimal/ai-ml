{
 "cells": [
  {
   "cell_type": "markdown",
   "metadata": {
    "id": "CcUT6Fon_qRE"
   },
   "source": [
    "### Required Assignment 5.1: Will the Customer Accept the Coupon?\n",
    "\n",
    "**Context**\n",
    "\n",
    "Imagine driving through town and a coupon is delivered to your cell phone for a restaurant near where you are driving. Would you accept that coupon and take a short detour to the restaurant? Would you accept the coupon but use it on a subsequent trip? Would you ignore the coupon entirely? What if the coupon was for a bar instead of a restaurant? What about a coffee house? Would you accept a bar coupon with a minor passenger in the car? What about if it was just you and your partner in the car? Would weather impact the rate of acceptance? What about the time of day?\n",
    "\n",
    "Obviously, proximity to the business is a factor on whether the coupon is delivered to the driver or not, but what are the factors that determine whether a driver accepts the coupon once it is delivered to them? How would you determine whether a driver is likely to accept a coupon?\n",
    "\n",
    "**Overview**\n",
    "\n",
    "The goal of this project is to use what you know about visualizations and probability distributions to distinguish between customers who accepted a driving coupon versus those that did not.\n",
    "\n",
    "**Data**\n",
    "\n",
    "This data comes to us from the UCI Machine Learning repository and was collected via a survey on Amazon Mechanical Turk. The survey describes different driving scenarios including the destination, current time, weather, passenger, etc., and then ask the person whether he will accept the coupon if he is the driver. Answers that the user will drive there ‘right away’ or ‘later before the coupon expires’ are labeled as ‘Y = 1’ and answers ‘no, I do not want the coupon’ are labeled as ‘Y = 0’.  There are five different types of coupons -- less expensive restaurants (under \\$20), coffee houses, carry out & take away, bar, and more expensive restaurants (\\$20 - $50)."
   ]
  },
  {
   "cell_type": "markdown",
   "metadata": {
    "id": "1wORvMBJ_qRF"
   },
   "source": [
    "**Deliverables**\n",
    "\n",
    "Your final product should be a brief report that highlights the differences between customers who did and did not accept the coupons.  To explore the data you will utilize your knowledge of plotting, statistical summaries, and visualization using Python. You will publish your findings in a public facing github repository as your first portfolio piece.\n",
    "\n",
    "\n",
    "\n"
   ]
  },
  {
   "cell_type": "markdown",
   "metadata": {
    "id": "pG6_Ym6q_qRG"
   },
   "source": [
    "### Data Description\n",
    "Keep in mind that these values mentioned below are average values.\n",
    "\n",
    "The attributes of this data set include:\n",
    "1. User attributes\n",
    "    -  Gender: male, female\n",
    "    -  Age: below 21, 21 to 25, 26 to 30, etc.\n",
    "    -  Marital Status: single, married partner, unmarried partner, or widowed\n",
    "    -  Number of children: 0, 1, or more than 1\n",
    "    -  Education: high school, bachelors degree, associates degree, or graduate degree\n",
    "    -  Occupation: architecture & engineering, business & financial, etc.\n",
    "    -  Annual income: less than \\\\$12500, \\\\$12500 - \\\\$24999, \\\\$25000 - \\\\$37499, etc.\n",
    "    -  Number of times that he/she goes to a bar: 0, less than 1, 1 to 3, 4 to 8 or greater than 8\n",
    "    -  Number of times that he/she buys takeaway food: 0, less than 1, 1 to 3, 4 to 8 or greater\n",
    "    than 8\n",
    "    -  Number of times that he/she goes to a coffee house: 0, less than 1, 1 to 3, 4 to 8 or\n",
    "    greater than 8\n",
    "    -  Number of times that he/she eats at a restaurant with average expense less than \\\\$20 per\n",
    "    person: 0, less than 1, 1 to 3, 4 to 8 or greater than 8\n",
    "    -  Number of times that he/she goes to a bar: 0, less than 1, 1 to 3, 4 to 8 or greater than 8\n",
    "    \n",
    "\n",
    "2. Contextual attributes\n",
    "    - Driving destination: home, work, or no urgent destination\n",
    "    - Location of user, coupon and destination: we provide a map to show the geographical\n",
    "    location of the user, destination, and the venue, and we mark the distance between each\n",
    "    two places with time of driving. The user can see whether the venue is in the same\n",
    "    direction as the destination.\n",
    "    - Weather: sunny, rainy, or snowy\n",
    "    - Temperature: 30F, 55F, or 80F\n",
    "    - Time: 10AM, 2PM, or 6PM\n",
    "    - Passenger: alone, partner, kid(s), or friend(s)\n",
    "\n",
    "\n",
    "3. Coupon attributes\n",
    "    - time before it expires: 2 hours or one day"
   ]
  },
  {
   "cell_type": "code",
   "execution_count": 1,
   "metadata": {
    "id": "dzNoP3o__qRG"
   },
   "outputs": [],
   "source": [
    "import matplotlib.pyplot as plt\n",
    "import seaborn as sns\n",
    "import pandas as pd\n",
    "import numpy as np\n",
    "import re"
   ]
  },
  {
   "cell_type": "markdown",
   "metadata": {
    "id": "Ct8pI1uE_qRG"
   },
   "source": [
    "### Problems\n",
    "\n",
    "Use the prompts below to get started with your data analysis.  \n",
    "\n",
    "1. Read in the `coupons.csv` file.\n",
    "\n",
    "\n"
   ]
  },
  {
   "cell_type": "code",
   "execution_count": 2,
   "metadata": {
    "id": "X0vbffYg_qRH"
   },
   "outputs": [],
   "source": [
    "data = pd.read_csv('data/coupons.csv')"
   ]
  },
  {
   "cell_type": "code",
   "execution_count": 3,
   "metadata": {
    "id": "TXofQ_DF_qRH",
    "outputId": "2fc96a2c-1112-4b54-f24f-dbb9bc88abfb"
   },
   "outputs": [
    {
     "data": {
      "text/html": [
       "<div>\n",
       "<style scoped>\n",
       "    .dataframe tbody tr th:only-of-type {\n",
       "        vertical-align: middle;\n",
       "    }\n",
       "\n",
       "    .dataframe tbody tr th {\n",
       "        vertical-align: top;\n",
       "    }\n",
       "\n",
       "    .dataframe thead th {\n",
       "        text-align: right;\n",
       "    }\n",
       "</style>\n",
       "<table border=\"1\" class=\"dataframe\">\n",
       "  <thead>\n",
       "    <tr style=\"text-align: right;\">\n",
       "      <th></th>\n",
       "      <th>destination</th>\n",
       "      <th>passanger</th>\n",
       "      <th>weather</th>\n",
       "      <th>temperature</th>\n",
       "      <th>time</th>\n",
       "      <th>coupon</th>\n",
       "      <th>expiration</th>\n",
       "      <th>gender</th>\n",
       "      <th>age</th>\n",
       "      <th>maritalStatus</th>\n",
       "      <th>...</th>\n",
       "      <th>CoffeeHouse</th>\n",
       "      <th>CarryAway</th>\n",
       "      <th>RestaurantLessThan20</th>\n",
       "      <th>Restaurant20To50</th>\n",
       "      <th>toCoupon_GEQ5min</th>\n",
       "      <th>toCoupon_GEQ15min</th>\n",
       "      <th>toCoupon_GEQ25min</th>\n",
       "      <th>direction_same</th>\n",
       "      <th>direction_opp</th>\n",
       "      <th>Y</th>\n",
       "    </tr>\n",
       "  </thead>\n",
       "  <tbody>\n",
       "    <tr>\n",
       "      <th>0</th>\n",
       "      <td>No Urgent Place</td>\n",
       "      <td>Alone</td>\n",
       "      <td>Sunny</td>\n",
       "      <td>55</td>\n",
       "      <td>2PM</td>\n",
       "      <td>Restaurant(&lt;20)</td>\n",
       "      <td>1d</td>\n",
       "      <td>Female</td>\n",
       "      <td>21</td>\n",
       "      <td>Unmarried partner</td>\n",
       "      <td>...</td>\n",
       "      <td>never</td>\n",
       "      <td>NaN</td>\n",
       "      <td>4~8</td>\n",
       "      <td>1~3</td>\n",
       "      <td>1</td>\n",
       "      <td>0</td>\n",
       "      <td>0</td>\n",
       "      <td>0</td>\n",
       "      <td>1</td>\n",
       "      <td>1</td>\n",
       "    </tr>\n",
       "    <tr>\n",
       "      <th>1</th>\n",
       "      <td>No Urgent Place</td>\n",
       "      <td>Friend(s)</td>\n",
       "      <td>Sunny</td>\n",
       "      <td>80</td>\n",
       "      <td>10AM</td>\n",
       "      <td>Coffee House</td>\n",
       "      <td>2h</td>\n",
       "      <td>Female</td>\n",
       "      <td>21</td>\n",
       "      <td>Unmarried partner</td>\n",
       "      <td>...</td>\n",
       "      <td>never</td>\n",
       "      <td>NaN</td>\n",
       "      <td>4~8</td>\n",
       "      <td>1~3</td>\n",
       "      <td>1</td>\n",
       "      <td>0</td>\n",
       "      <td>0</td>\n",
       "      <td>0</td>\n",
       "      <td>1</td>\n",
       "      <td>0</td>\n",
       "    </tr>\n",
       "    <tr>\n",
       "      <th>2</th>\n",
       "      <td>No Urgent Place</td>\n",
       "      <td>Friend(s)</td>\n",
       "      <td>Sunny</td>\n",
       "      <td>80</td>\n",
       "      <td>10AM</td>\n",
       "      <td>Carry out &amp; Take away</td>\n",
       "      <td>2h</td>\n",
       "      <td>Female</td>\n",
       "      <td>21</td>\n",
       "      <td>Unmarried partner</td>\n",
       "      <td>...</td>\n",
       "      <td>never</td>\n",
       "      <td>NaN</td>\n",
       "      <td>4~8</td>\n",
       "      <td>1~3</td>\n",
       "      <td>1</td>\n",
       "      <td>1</td>\n",
       "      <td>0</td>\n",
       "      <td>0</td>\n",
       "      <td>1</td>\n",
       "      <td>1</td>\n",
       "    </tr>\n",
       "    <tr>\n",
       "      <th>3</th>\n",
       "      <td>No Urgent Place</td>\n",
       "      <td>Friend(s)</td>\n",
       "      <td>Sunny</td>\n",
       "      <td>80</td>\n",
       "      <td>2PM</td>\n",
       "      <td>Coffee House</td>\n",
       "      <td>2h</td>\n",
       "      <td>Female</td>\n",
       "      <td>21</td>\n",
       "      <td>Unmarried partner</td>\n",
       "      <td>...</td>\n",
       "      <td>never</td>\n",
       "      <td>NaN</td>\n",
       "      <td>4~8</td>\n",
       "      <td>1~3</td>\n",
       "      <td>1</td>\n",
       "      <td>1</td>\n",
       "      <td>0</td>\n",
       "      <td>0</td>\n",
       "      <td>1</td>\n",
       "      <td>0</td>\n",
       "    </tr>\n",
       "    <tr>\n",
       "      <th>4</th>\n",
       "      <td>No Urgent Place</td>\n",
       "      <td>Friend(s)</td>\n",
       "      <td>Sunny</td>\n",
       "      <td>80</td>\n",
       "      <td>2PM</td>\n",
       "      <td>Coffee House</td>\n",
       "      <td>1d</td>\n",
       "      <td>Female</td>\n",
       "      <td>21</td>\n",
       "      <td>Unmarried partner</td>\n",
       "      <td>...</td>\n",
       "      <td>never</td>\n",
       "      <td>NaN</td>\n",
       "      <td>4~8</td>\n",
       "      <td>1~3</td>\n",
       "      <td>1</td>\n",
       "      <td>1</td>\n",
       "      <td>0</td>\n",
       "      <td>0</td>\n",
       "      <td>1</td>\n",
       "      <td>0</td>\n",
       "    </tr>\n",
       "  </tbody>\n",
       "</table>\n",
       "<p>5 rows × 26 columns</p>\n",
       "</div>"
      ],
      "text/plain": [
       "       destination  passanger weather  temperature  time  \\\n",
       "0  No Urgent Place      Alone   Sunny           55   2PM   \n",
       "1  No Urgent Place  Friend(s)   Sunny           80  10AM   \n",
       "2  No Urgent Place  Friend(s)   Sunny           80  10AM   \n",
       "3  No Urgent Place  Friend(s)   Sunny           80   2PM   \n",
       "4  No Urgent Place  Friend(s)   Sunny           80   2PM   \n",
       "\n",
       "                  coupon expiration  gender age      maritalStatus  ...  \\\n",
       "0        Restaurant(<20)         1d  Female  21  Unmarried partner  ...   \n",
       "1           Coffee House         2h  Female  21  Unmarried partner  ...   \n",
       "2  Carry out & Take away         2h  Female  21  Unmarried partner  ...   \n",
       "3           Coffee House         2h  Female  21  Unmarried partner  ...   \n",
       "4           Coffee House         1d  Female  21  Unmarried partner  ...   \n",
       "\n",
       "   CoffeeHouse CarryAway RestaurantLessThan20 Restaurant20To50  \\\n",
       "0        never       NaN                  4~8              1~3   \n",
       "1        never       NaN                  4~8              1~3   \n",
       "2        never       NaN                  4~8              1~3   \n",
       "3        never       NaN                  4~8              1~3   \n",
       "4        never       NaN                  4~8              1~3   \n",
       "\n",
       "  toCoupon_GEQ5min toCoupon_GEQ15min toCoupon_GEQ25min direction_same  \\\n",
       "0                1                 0                 0              0   \n",
       "1                1                 0                 0              0   \n",
       "2                1                 1                 0              0   \n",
       "3                1                 1                 0              0   \n",
       "4                1                 1                 0              0   \n",
       "\n",
       "  direction_opp  Y  \n",
       "0             1  1  \n",
       "1             1  0  \n",
       "2             1  1  \n",
       "3             1  0  \n",
       "4             1  0  \n",
       "\n",
       "[5 rows x 26 columns]"
      ]
     },
     "execution_count": 3,
     "metadata": {},
     "output_type": "execute_result"
    }
   ],
   "source": [
    "data.head()"
   ]
  },
  {
   "cell_type": "markdown",
   "metadata": {
    "id": "GcDs78ZH_qRH"
   },
   "source": [
    "2. Investigate the dataset for missing or problematic data."
   ]
  },
  {
   "cell_type": "code",
   "execution_count": 4,
   "metadata": {
    "id": "6CwL6oWj_qRH"
   },
   "outputs": [
    {
     "name": "stdout",
     "output_type": "stream",
     "text": [
      "Shape: (12684, 26)\n",
      "\n",
      "Dtypes:\n",
      " destination             object\n",
      "passanger               object\n",
      "weather                 object\n",
      "temperature              int64\n",
      "time                    object\n",
      "coupon                  object\n",
      "expiration              object\n",
      "gender                  object\n",
      "age                     object\n",
      "maritalStatus           object\n",
      "has_children             int64\n",
      "education               object\n",
      "occupation              object\n",
      "income                  object\n",
      "car                     object\n",
      "Bar                     object\n",
      "CoffeeHouse             object\n",
      "CarryAway               object\n",
      "RestaurantLessThan20    object\n",
      "Restaurant20To50        object\n",
      "toCoupon_GEQ5min         int64\n",
      "toCoupon_GEQ15min        int64\n",
      "toCoupon_GEQ25min        int64\n",
      "direction_same           int64\n",
      "direction_opp            int64\n",
      "Y                        int64\n",
      "dtype: object\n",
      "Duplicate rows: 74\n",
      "                      missing_count  missing_percent\n",
      "car                           12576            99.15\n",
      "CoffeeHouse                     217             1.71\n",
      "Restaurant20To50                189             1.49\n",
      "CarryAway                       151             1.19\n",
      "RestaurantLessThan20            130             1.02\n",
      "Bar                             107             0.84\n",
      "destination                       0             0.00\n",
      "passanger                         0             0.00\n",
      "direction_opp                     0             0.00\n",
      "direction_same                    0             0.00\n",
      "toCoupon_GEQ25min                 0             0.00\n",
      "toCoupon_GEQ15min                 0             0.00\n",
      "toCoupon_GEQ5min                  0             0.00\n",
      "income                            0             0.00\n",
      "occupation                        0             0.00\n",
      "education                         0             0.00\n",
      "has_children                      0             0.00\n",
      "maritalStatus                     0             0.00\n",
      "age                               0             0.00\n",
      "gender                            0             0.00\n"
     ]
    },
    {
     "data": {
      "image/png": "[encoded data removed]",
      "text/plain": [
       "<Figure size 1000x800 with 1 Axes>"
      ]
     },
     "metadata": {},
     "output_type": "display_data"
    },
    {
     "data": {
      "image/png": "[encoded data removed]",
      "text/plain": [
       "<Figure size 1000x800 with 1 Axes>"
      ]
     },
     "metadata": {},
     "output_type": "display_data"
    },
    {
     "name": "stdout",
     "output_type": "stream",
     "text": [
      "destination             object\n",
      "passanger               object\n",
      "weather                 object\n",
      "temperature              int64\n",
      "time                    object\n",
      "coupon                  object\n",
      "expiration              object\n",
      "gender                  object\n",
      "age                     object\n",
      "maritalStatus           object\n",
      "has_children             int64\n",
      "education               object\n",
      "occupation              object\n",
      "income                  object\n",
      "car                     object\n",
      "Bar                     object\n",
      "CoffeeHouse             object\n",
      "CarryAway               object\n",
      "RestaurantLessThan20    object\n",
      "Restaurant20To50        object\n",
      "toCoupon_GEQ5min         int64\n",
      "toCoupon_GEQ15min        int64\n",
      "toCoupon_GEQ25min        int64\n",
      "direction_same           int64\n",
      "direction_opp            int64\n",
      "Y                        int64\n",
      "dtype: object\n",
      "{'destination': 0, 'passanger': 0, 'weather': 0, 'time': 0, 'coupon': 0, 'expiration': 0, 'gender': 0, 'age': 0, 'maritalStatus': 0, 'education': 0, 'occupation': 0, 'income': 0, 'car': 0, 'Bar': 0, 'CoffeeHouse': 0, 'CarryAway': 0, 'RestaurantLessThan20': 0, 'Restaurant20To50': 0}\n"
     ]
    }
   ],
   "source": [
    "## Basic shape & types\n",
    "print(\"Shape:\", data.shape)\n",
    "print(\"\\nDtypes:\\n\", data.dtypes)\n",
    "\n",
    "## Find duplicate rows countDuplicate rows\n",
    "dupe_count = data.duplicated().sum()\n",
    "print(\"Duplicate rows:\", dupe_count)\n",
    "\n",
    "## List all NaN and None values\n",
    "# This will first find all NaN or None values and flag as True or False.\n",
    "# Then it will SUM all the false rows for \"Each\" column \n",
    "# And finally create one-column DataFrame \"missing_count\" and list the count\n",
    "miss = data.isna().sum().to_frame(\"missing_count\")\n",
    "\n",
    "# Now add the missing percentage for each missing counts\n",
    "miss[\"missing_percent\"] = (miss[\"missing_count\"] / len(data) * 100).round(2)\n",
    "\n",
    "# Sorts the missingness table so the columns with the most missing values appear first.\n",
    "miss = miss.sort_values(\"missing_count\", ascending=False)\n",
    "\n",
    "# Print Top 20\n",
    "print(miss.head(20))\n",
    "\n",
    "## Set Index\n",
    "miss.index.name = \"column\"\n",
    "\n",
    "## Draw Barplot\n",
    "\n",
    "# Use Seaborn BarPlot to draw the Barplot\n",
    "plt.figure(figsize=(10, 8))\n",
    "sns.barplot(data=miss, x=\"missing_percent\", y=\"column\")\n",
    "plt.title(\"Missing % by Column\")\n",
    "plt.xlabel(\"Missing %\")\n",
    "plt.ylabel(\"Columns\")\n",
    "plt.tight_layout()\n",
    "plt.show()\n",
    "\n",
    "# Using Matplotlib to create  the barplot\n",
    "plt.figure(figsize=(10, 8))\n",
    "miss[\"missing_percent\"].sort_values(ascending=False).head(20).plot(kind=\"bar\")\n",
    "plt.title(\"Top 20 Columns by Missing %\")\n",
    "plt.ylabel(\"Missing %\")\n",
    "plt.tight_layout()\n",
    "plt.show()\n",
    "\n",
    "\n",
    "## Find and filter null-like strings as below\n",
    "NULL_LIKE = {\"\", \" \", \"NA\", \"N/A\", \"na\", \"NaN\", \"None\", \"?\", \"-\", \"--\", \"Unknown\"}\n",
    "\n",
    "print(data.dtypes)\n",
    "hidden_counts = {}\n",
    "for c in data.columns:\n",
    "    if data[c].dtype == \"object\":\n",
    "        s = data[c].astype(str).str.strip()\n",
    "        hidden_counts[c] = int(s.isin(NULL_LIKE).sum())\n",
    "\n",
    "print(hidden_counts)"
   ]
  },
  {
   "cell_type": "markdown",
   "metadata": {
    "id": "bSdVSpYB_qRH"
   },
   "source": [
    "3. Decide what to do about your missing data -- drop, replace, other..."
   ]
  },
  {
   "cell_type": "code",
   "execution_count": 5,
   "metadata": {
    "id": "tyvoAC5F_qRI"
   },
   "outputs": [
    {
     "name": "stdout",
     "output_type": "stream",
     "text": [
      "       destination  passanger weather  temperature  time  \\\n",
      "0  No Urgent Place      Alone   Sunny           55   2PM   \n",
      "1  No Urgent Place  Friend(s)   Sunny           80  10AM   \n",
      "2  No Urgent Place  Friend(s)   Sunny           80  10AM   \n",
      "3  No Urgent Place  Friend(s)   Sunny           80   2PM   \n",
      "4  No Urgent Place  Friend(s)   Sunny           80   2PM   \n",
      "\n",
      "                  coupon expiration  gender age      maritalStatus  ...  \\\n",
      "0        Restaurant(<20)         1d  Female  21  Unmarried partner  ...   \n",
      "1           Coffee House         2h  Female  21  Unmarried partner  ...   \n",
      "2  Carry out & Take away         2h  Female  21  Unmarried partner  ...   \n",
      "3           Coffee House         2h  Female  21  Unmarried partner  ...   \n",
      "4           Coffee House         1d  Female  21  Unmarried partner  ...   \n",
      "\n",
      "   CoffeeHouse CarryAway RestaurantLessThan20 Restaurant20To50  \\\n",
      "0        never       NaN                  4~8              1~3   \n",
      "1        never       NaN                  4~8              1~3   \n",
      "2        never       NaN                  4~8              1~3   \n",
      "3        never       NaN                  4~8              1~3   \n",
      "4        never       NaN                  4~8              1~3   \n",
      "\n",
      "  toCoupon_GEQ5min toCoupon_GEQ15min toCoupon_GEQ25min direction_same  \\\n",
      "0                1                 0                 0              0   \n",
      "1                1                 0                 0              0   \n",
      "2                1                 1                 0              0   \n",
      "3                1                 1                 0              0   \n",
      "4                1                 1                 0              0   \n",
      "\n",
      "  direction_opp  Y  \n",
      "0             1  1  \n",
      "1             1  0  \n",
      "2             1  1  \n",
      "3             1  0  \n",
      "4             1  0  \n",
      "\n",
      "[5 rows x 26 columns]\n",
      "\n",
      "Column Name:destination\n",
      "        destination\n",
      "0  No Urgent Place\n",
      "1             Home\n",
      "2             Work\n",
      "\n",
      "Column Name:passanger\n",
      "    passanger\n",
      "0      Alone\n",
      "1  Friend(s)\n",
      "2     Kid(s)\n",
      "3    Partner\n",
      "\n",
      "Column Name:weather\n",
      "   weather\n",
      "0   Sunny\n",
      "1   Rainy\n",
      "2   Snowy\n",
      "\n",
      "Column Name:temperature\n",
      "    temperature\n",
      "0           55\n",
      "1           80\n",
      "2           30\n",
      "\n",
      "Column Name:time\n",
      "    time\n",
      "0   2PM\n",
      "1  10AM\n",
      "2   6PM\n",
      "3   7AM\n",
      "4  10PM\n",
      "\n",
      "Column Name:coupon\n",
      "                   coupon\n",
      "0        Restaurant(<20)\n",
      "1           Coffee House\n",
      "2  Carry out & Take away\n",
      "3                    Bar\n",
      "4      Restaurant(20-50)\n",
      "\n",
      "Column Name:expiration\n",
      "   expiration\n",
      "0         1d\n",
      "1         2h\n",
      "\n",
      "Column Name:gender\n",
      "    gender\n",
      "0  Female\n",
      "1    Male\n",
      "\n",
      "Column Name:age\n",
      "        age\n",
      "0       21\n",
      "1       46\n",
      "2       26\n",
      "3       31\n",
      "4       41\n",
      "5   50plus\n",
      "6       36\n",
      "7  below21\n",
      "\n",
      "Column Name:maritalStatus\n",
      "        maritalStatus\n",
      "0  Unmarried partner\n",
      "1             Single\n",
      "2    Married partner\n",
      "3           Divorced\n",
      "4            Widowed\n",
      "\n",
      "Column Name:has_children\n",
      "    has_children\n",
      "0             1\n",
      "1             0\n",
      "\n",
      "Column Name:education\n",
      "                                 education\n",
      "0                Some college - no degree\n",
      "1                        Bachelors degree\n",
      "2                       Associates degree\n",
      "3                    High School Graduate\n",
      "4  Graduate degree (Masters or Doctorate)\n",
      "5                        Some High School\n",
      "\n",
      "Column Name:occupation\n",
      "                                    occupation\n",
      "0                                  Unemployed\n",
      "1                  Architecture & Engineering\n",
      "2                                     Student\n",
      "3                  Education&Training&Library\n",
      "4                          Healthcare Support\n",
      "5        Healthcare Practitioners & Technical\n",
      "6                             Sales & Related\n",
      "7                                  Management\n",
      "8    Arts Design Entertainment Sports & Media\n",
      "9                     Computer & Mathematical\n",
      "10               Life Physical Social Science\n",
      "11                    Personal Care & Service\n",
      "12                Community & Social Services\n",
      "13            Office & Administrative Support\n",
      "14                  Construction & Extraction\n",
      "15                                      Legal\n",
      "16                                    Retired\n",
      "17          Installation Maintenance & Repair\n",
      "18           Transportation & Material Moving\n",
      "19                       Business & Financial\n",
      "20                         Protective Service\n",
      "21         Food Preparation & Serving Related\n",
      "22                     Production Occupations\n",
      "23  Building & Grounds Cleaning & Maintenance\n",
      "24                 Farming Fishing & Forestry\n",
      "\n",
      "Column Name:income\n",
      "              income\n",
      "0   $37500 - $49999\n",
      "1   $62500 - $74999\n",
      "2   $12500 - $24999\n",
      "3   $75000 - $87499\n",
      "4   $50000 - $62499\n",
      "5   $25000 - $37499\n",
      "6   $100000 or More\n",
      "7   $87500 - $99999\n",
      "8  Less than $12500\n",
      "\n",
      "Column Name:car\n",
      "                                         car\n",
      "0                                       NaN\n",
      "1                    Scooter and motorcycle\n",
      "2                                 crossover\n",
      "3                                    Mazda5\n",
      "4                              do not drive\n",
      "5  Car that is too old to install Onstar :D\n",
      "\n",
      "Column Name:Bar\n",
      "      Bar\n",
      "0  never\n",
      "1  less1\n",
      "2    1~3\n",
      "3    gt8\n",
      "4    NaN\n",
      "5    4~8\n",
      "\n",
      "Column Name:CoffeeHouse\n",
      "   CoffeeHouse\n",
      "0       never\n",
      "1       less1\n",
      "2         4~8\n",
      "3         1~3\n",
      "4         gt8\n",
      "5         NaN\n",
      "\n",
      "Column Name:CarryAway\n",
      "   CarryAway\n",
      "0       NaN\n",
      "1       4~8\n",
      "2       1~3\n",
      "3       gt8\n",
      "4     less1\n",
      "5     never\n",
      "\n",
      "Column Name:RestaurantLessThan20\n",
      "   RestaurantLessThan20\n",
      "0                  4~8\n",
      "1                  1~3\n",
      "2                less1\n",
      "3                  gt8\n",
      "4                  NaN\n",
      "5                never\n",
      "\n",
      "Column Name:Restaurant20To50\n",
      "   Restaurant20To50\n",
      "0              1~3\n",
      "1            less1\n",
      "2            never\n",
      "3              gt8\n",
      "4              4~8\n",
      "5              NaN\n",
      "\n",
      "Column Name:toCoupon_GEQ5min\n",
      "    toCoupon_GEQ5min\n",
      "0                 1\n",
      "\n",
      "Column Name:toCoupon_GEQ15min\n",
      "    toCoupon_GEQ15min\n",
      "0                  0\n",
      "1                  1\n",
      "\n",
      "Column Name:toCoupon_GEQ25min\n",
      "    toCoupon_GEQ25min\n",
      "0                  0\n",
      "1                  1\n",
      "\n",
      "Column Name:direction_same\n",
      "    direction_same\n",
      "0               0\n",
      "1               1\n",
      "\n",
      "Column Name:direction_opp\n",
      "    direction_opp\n",
      "0              1\n",
      "1              0\n",
      "\n",
      "Column Name:Y\n",
      "    Y\n",
      "0  1\n",
      "1  0\n",
      "\n",
      "Duplicate rows: 74\n",
      "*** No duplicate rows ***\n"
     ]
    }
   ],
   "source": [
    "## Find and remove rows\n",
    "df = data.drop_duplicates()\n",
    "print(data.head())\n",
    "\n",
    "# Check unique columns records for better data understanding, preserves NaN if present\n",
    "# This will help visually show any data discrepancy\n",
    "cols = [\"destination\",\n",
    "        \"passanger\",\n",
    "        \"weather\",\n",
    "        \"temperature\",\n",
    "        \"time\",\n",
    "        \"coupon\",\n",
    "        \"expiration\",\n",
    "        \"gender\",\n",
    "        \"age\",\n",
    "        \"maritalStatus\",\n",
    "        \"has_children\",\n",
    "        \"education\",\n",
    "        \"occupation\",\n",
    "        \"income\",\n",
    "        \"car\",\n",
    "        \"Bar\",\n",
    "        \"CoffeeHouse\",\n",
    "        \"CarryAway\",\n",
    "        \"RestaurantLessThan20\",\n",
    "        \"Restaurant20To50\",\n",
    "        \"toCoupon_GEQ5min\",\n",
    "        \"toCoupon_GEQ15min\",\n",
    "        \"toCoupon_GEQ25min\",\n",
    "        \"direction_same\",\n",
    "        \"direction_opp\",\n",
    "        \"Y\"]\n",
    "for col in cols:\n",
    "    uniq_col_df = df[[col]].drop_duplicates().reset_index(drop=True)\n",
    "    print(\"\\nColumn Name:\"+ col +\"\\n\", uniq_col_df)\n",
    "    \n",
    "\n",
    "# Original DataFrame duplicate count\n",
    "print(\"\\nDuplicate rows:\", data.duplicated().sum())\n",
    "\n",
    "# Check for no duplicate DataFrame count\n",
    "dupe_count = df.duplicated().sum()\n",
    "if dupe_count == 0:\n",
    "    print(\"*** No duplicate rows ***\")\n",
    "else:\n",
    "    print(f\"{dupe_count} duplicate rows found ❗\")\n",
    "\n",
    "## 5) Find and filter null-like strings as below\n",
    "NULL_LIKE = {\"\", \" \", \"NA\", \"N/A\", \"na\", \"NaN\", \"None\", \"?\", \"-\", \"--\", \"Unknown\"}\n",
    "for c in df.columns:\n",
    "    if df[c].dtype == \"object\":\n",
    "        s = df[c].astype(str).str.strip()\n",
    "        df.loc[s.isin(NULL_LIKE), c] = np.nan\n",
    "\n",
    "## Implement above ....."
   ]
  },
  {
   "cell_type": "markdown",
   "metadata": {
    "id": "YE6oJbXd_qRI"
   },
   "source": [
    "4. What proportion of the total observations chose to accept the coupon?\n",
    "\n"
   ]
  },
  {
   "cell_type": "code",
   "execution_count": 6,
   "metadata": {
    "id": "86GGqBTv_qRI"
   },
   "outputs": [
    {
     "name": "stdout",
     "output_type": "stream",
     "text": [
      "[1 0]\n",
      "Total Valid Rows: 12684\n",
      "Coupon Accepted (Y=1): 7210\n",
      "Proportion accepted: 0.5684, Proportion % accepted: 56.84%\n"
     ]
    }
   ],
   "source": [
    "# Proportion of observations that accepted the coupon (Y=1)\n",
    "\n",
    "# Coerce column Y to a numeric value and NaN\n",
    "yval = pd.to_numeric(data[\"Y\"], errors=\"coerce\")\n",
    "\n",
    "# Drop NaNs from a Series\n",
    "yval = yval.dropna()\n",
    "\n",
    "# Confirm 0-1\n",
    "print(yval.unique())\n",
    "\n",
    "# Calculate proportion among rows where Y is present/valid\n",
    "total_valid_rows = yval.notna().sum()\n",
    "print(f\"Total Valid Rows: {total_valid_rows}\")\n",
    "\n",
    "accepted_coupon_count = (yval == 1).sum()\n",
    "print(f\"Coupon Accepted (Y=1): {accepted_coupon_count}\")\n",
    "\n",
    "prop_accept = accepted_coupon_count / total_valid_rows\n",
    "\n",
    "## What proportion of the total observations chose to accept the coupon?\n",
    "print(f\"Proportion accepted: {prop_accept:.4f}, Proportion % accepted: {prop_accept * 100:.2f}%\")"
   ]
  },
  {
   "cell_type": "markdown",
   "metadata": {
    "id": "vflz0DoE_qRI"
   },
   "source": [
    "5. Use a bar plot to visualize the `coupon` column."
   ]
  },
  {
   "cell_type": "code",
   "execution_count": 7,
   "metadata": {},
   "outputs": [
    {
     "data": {
      "image/png": "[encoded data removed]",
      "text/plain": [
       "<Figure size 1000x400 with 1 Axes>"
      ]
     },
     "metadata": {},
     "output_type": "display_data"
    }
   ],
   "source": [
    "# Checking Unique records to make sure there is no duplicate coupons \n",
    "df[\"coupon\"].unique()\n",
    "\n",
    "# value_counts drops NaN by default.\n",
    "#count = df[\"coupon\"].value_counts().reset_index()\n",
    "counts = df.groupby(\"coupon\").size().sort_values(ascending=False).reset_index(name=\"count\")\n",
    "\n",
    "# Total Coupon Count\n",
    "total_count = counts[\"count\"].sum()\n",
    "\n",
    "counts[\"percent\"] = ((counts[\"count\"] / total_count)* 100).round(2)\n",
    "\n",
    "# Sort by count desc for a tidy plot\n",
    "counts = counts.sort_values(\"count\", ascending=False)\n",
    "\n",
    "## Draw the barplot\n",
    "plt.figure(figsize=(10, 4))\n",
    "ax = sns.barplot(data=counts, x=\"count\", y=\"coupon\", orient=\"h\")\n",
    "\n",
    "ax.set_title(\"Coupon Type Distribution\")\n",
    "ax.set_xlabel(\"Count\")\n",
    "ax.set_ylabel(\"Coupons\")\n",
    "\n",
    "# Add % labels at bar ends\n",
    "for i, row in counts.iterrows():\n",
    "    ax.text(row[\"count\"], i, f\"  {row['percent']:.2f}%\", va=\"center\")\n",
    "\n",
    "plt.tight_layout()\n",
    "plt.show()\n"
   ]
  },
  {
   "cell_type": "markdown",
   "metadata": {
    "id": "Qw4lCyx2_qRI"
   },
   "source": [
    "6. Use a histogram to visualize the temperature column."
   ]
  },
  {
   "cell_type": "code",
   "execution_count": 8,
   "metadata": {},
   "outputs": [
    {
     "data": {
      "image/png": "[encoded data removed]",
      "text/plain": [
       "<Figure size 1000x600 with 1 Axes>"
      ]
     },
     "metadata": {},
     "output_type": "display_data"
    }
   ],
   "source": [
    "# Select non NaN values\n",
    "temp = pd.to_numeric(data[\"temperature\"], errors=\"coerce\").dropna()\n",
    "\n",
    "# Choose bin edges that bracket the discrete values 30, 55, 80\n",
    "bins = [25, 40, 60, 85]\n",
    "\n",
    "plt.figure(figsize=(10, 6))\n",
    "plt.hist(temp, bins=bins, edgecolor=\"red\", rwidth=0.5)\n",
    "\n",
    "plt.title(\"Temperature Distribution\")\n",
    "plt.xlabel(\"Temperature (F)\")\n",
    "plt.ylabel(\"Count\")\n",
    "plt.tight_layout()\n",
    "plt.show()\n"
   ]
  },
  {
   "cell_type": "code",
   "execution_count": null,
   "metadata": {
    "id": "zLtOaJQk_qRI"
   },
   "outputs": [],
   "source": []
  },
  {
   "cell_type": "markdown",
   "metadata": {
    "id": "FupfgeJk_qRJ"
   },
   "source": [
    "**Investigating the Bar Coupons**\n",
    "\n",
    "Now, we will lead you through an exploration of just the bar related coupons.  \n",
    "\n",
    "1. Create a new `DataFrame` that contains just the bar coupons.\n"
   ]
  },
  {
   "cell_type": "code",
   "execution_count": 9,
   "metadata": {
    "id": "tMBlWuGq_qRJ"
   },
   "outputs": [
    {
     "name": "stdout",
     "output_type": "stream",
     "text": [
      "2010\n"
     ]
    }
   ],
   "source": [
    "bar_coupons = df[df[\"coupon\"].str.contains(\"Bar\", case=False, na=False)]\n",
    "total_bar_count = bar_coupons[\"coupon\"].size\n",
    "print(total_bar_count)"
   ]
  },
  {
   "cell_type": "markdown",
   "metadata": {
    "id": "8ue6uCqf_qRJ"
   },
   "source": [
    "2. What proportion of bar coupons were accepted?\n"
   ]
  },
  {
   "cell_type": "code",
   "execution_count": 10,
   "metadata": {
    "id": "hSdte8Mi_qRK"
   },
   "outputs": [
    {
     "name": "stdout",
     "output_type": "stream",
     "text": [
      "Proportion accepted: 0.4100, Proportion % accepted: 41.00%\n"
     ]
    }
   ],
   "source": [
    "# Coerce column Y to a numeric value and NaN\n",
    "accepted_bar_coupons = pd.to_numeric(bar_coupons[\"Y\"], errors=\"coerce\") == 1\n",
    "accepted_bar_coupons_count = accepted_bar_coupons.sum()\n",
    "\n",
    "# Found the accepted proportion of bar coupons \n",
    "bar_proportion = accepted_bar_coupons_count/total_bar_count\n",
    "\n",
    "# What proportion of bar coupons were accepted?\n",
    "print(f\"Proportion accepted: {bar_proportion:.4f}, Proportion % accepted: {bar_proportion * 100:.2f}%\")"
   ]
  },
  {
   "cell_type": "markdown",
   "metadata": {
    "id": "85nA_iEi_qRK"
   },
   "source": [
    "3. Compare the acceptance rate between those who went to a bar 3 or fewer times a month to those who went more.\n"
   ]
  },
  {
   "cell_type": "code",
   "execution_count": 11,
   "metadata": {},
   "outputs": [
    {
     "name": "stdout",
     "output_type": "stream",
     "text": [
      "<=3/month: 507/960 = 52.81%\n",
      ">3/month: 153/199 = 76.88%\n"
     ]
    }
   ],
   "source": [
    "# Define bar counts\n",
    "less_than_3 = [\"less1\", \"1~3\"]\n",
    "more_than_3 = [\"gt8\", \"4~8\"]\n",
    "\n",
    "# Total count bar matches for less than 3\n",
    "total_bar_less3_count = bar_coupons[\"Bar\"].isin(less_than_3).sum()\n",
    "#print(total_bar_less3_count)\n",
    "\n",
    "# Total count bar matches for less than 3 and coupons has been used\n",
    "bar_coupon_less3_count = (bar_coupons[\"Bar\"].isin(less_than_3) & (bar_coupons[\"Y\"] == 1)).sum()\n",
    "#print(bar_coupon_less3_count)\n",
    "\n",
    "# Total count bar matches for more than 3\n",
    "total_bar_more3_count = bar_coupons[\"Bar\"].isin(more_than_3).sum()\n",
    "#print(total_bar_more3_count)\n",
    "\n",
    "# Total count bar matches for more than 3 and coupons has been used\n",
    "bar_coupon_more3_count = (bar_coupons[\"Bar\"].isin(more_than_3) & (bar_coupons[\"Y\"] == 1)).sum()\n",
    "#print(bar_coupon_more3_count)\n",
    "\n",
    "acceptance_rate_less = (bar_coupon_less3_count/total_bar_less3_count) * 100\n",
    "acceptance_rate_more = (bar_coupon_more3_count/total_bar_more3_count) * 100\n",
    "                         \n",
    "print(f\"<=3/month: {bar_coupon_less3_count}/{total_bar_less3_count} = {acceptance_rate_less:.2f}%\")\n",
    "print(f\">3/month: {bar_coupon_more3_count}/{total_bar_more3_count} = {acceptance_rate_more:.2f}%\")"
   ]
  },
  {
   "cell_type": "markdown",
   "metadata": {
    "id": "RBgcQwH4_qRK"
   },
   "source": [
    "4. Compare the acceptance rate between drivers who go to a bar more than once a month and are over the age of 25 to the all others.  Is there a difference?\n"
   ]
  },
  {
   "cell_type": "code",
   "execution_count": 12,
   "metadata": {
    "id": "bf28bbeX_qRK"
   },
   "outputs": [
    {
     "name": "stdout",
     "output_type": "stream",
     "text": [
      ">1/month & age>25: 247/353 = 69.97%\n",
      "All others: 577/1657 = 34.82%\n"
     ]
    }
   ],
   "source": [
    "# Define bar counts as >1/month\n",
    "more_than_1 = [\"1~3\", \"gt8\", \"4~8\"]\n",
    "\n",
    "## >1/month & age>25\n",
    "# Total count bar matches for more than 1 and the age is over 25\n",
    "bar_coupon_more1_count = (bar_coupons[\"Bar\"].isin(more_than_1) & (pd.to_numeric(bar_coupons[\"age\"], errors=\"coerce\") > 25)).sum()\n",
    "\n",
    "# Total count bar matches for more than 1 and the age is over 25 and coupon expected\n",
    "bar_coupon_more1_accepted_count = (bar_coupons[\"Bar\"].isin(more_than_1) & (pd.to_numeric(bar_coupons[\"age\"], errors=\"coerce\") > 25) & (bar_coupons[\"Y\"] == 1)).sum()\n",
    "\n",
    "acceptance_rate4a_ratio = bar_coupon_more1_accepted_count/bar_coupon_more1_count\n",
    "                                  \n",
    "print(f\">1/month & age>25: {bar_coupon_more1_accepted_count}/{bar_coupon_more1_count} = {acceptance_rate4a_ratio:.2%}\")\n",
    "\n",
    "## ALL Others\n",
    "# Total count bar NOT matches for more than 1 and the age is NOT over 25\n",
    "bar_coupon_all_others = ~(bar_coupons[\"Bar\"].isin(more_than_1) & (pd.to_numeric(bar_coupons[\"age\"], errors=\"coerce\") > 25))\n",
    "\n",
    "# Total count bar matches for more than 1 and the age is over 25 and coupon expected\n",
    "bar_coupon_allothers_accepted = ((bar_coupon_all_others) & (bar_coupons[\"Y\"] == 1))\n",
    "\n",
    "acceptance_rate4b_ratio = bar_coupon_allothers_accepted.sum()/bar_coupon_all_others.sum()\n",
    "\n",
    "print(f\"All others: {bar_coupon_allothers_accepted.sum()}/{bar_coupon_all_others.sum()} = {acceptance_rate4b_ratio:.2%}\")"
   ]
  },
  {
   "cell_type": "markdown",
   "metadata": {
    "id": "S4RKT4PJ_qRK"
   },
   "source": [
    "5. Use the same process to compare the acceptance rate between drivers who go to bars more than once a month and had passengers that were not a kid and had occupations other than farming, fishing, or forestry.\n"
   ]
  },
  {
   "cell_type": "code",
   "execution_count": 13,
   "metadata": {
    "id": "sENaI2Tg_qRK"
   },
   "outputs": [
    {
     "name": "stdout",
     "output_type": "stream",
     "text": [
      ">1/mo & has_children==0 & non-farm/fish/forest: 416/1594 = 26.10%\n"
     ]
    }
   ],
   "source": [
    "\n",
    "\n",
    "## Drivers who go to bars more than once a month\n",
    "drivers_more_than1 = bar_coupons[\"Bar\"].isin(more_than_1)\n",
    "                      \n",
    "## Drivers who have passengers as kids\n",
    "# Total count bar matches for more than 1 and has no childeren\n",
    "drivers_no_kids = (pd.to_numeric(bar_coupons[\"has_children\"], errors=\"coerce\") == 0)\n",
    "\n",
    "## Occupations other than farming, fishing, or forestry\n",
    "drivers_not_farm_fish_forest = ~bar_coupons[\"occupation\"].str.contains(r\"farm|fish|forest\", na=False)\n",
    "\n",
    "# Drivers more then 1 month & no kids & non-farm/fish/forest\n",
    "drivers_more_than1_no_kids_occu = (drivers_more_than1 & drivers_no_kids & drivers_not_farm_fish_forest).sum()\n",
    "#print(drivers_more_than1_no_kids_occu)\n",
    "\n",
    "# Drivers with All others\n",
    "drivers_more_than1_no_kids_all_othr_occu = (~(drivers_more_than1 & drivers_no_kids & drivers_not_farm_fish_forest)).sum()\n",
    "#print(drivers_more_than1_no_kids_all_othr_occu)\n",
    "\n",
    "acceptance_rate5_ratio = drivers_more_than1_no_kids_occu/drivers_more_than1_no_kids_all_othr_occu\n",
    "\n",
    "print(f\">1/mo & has_children==0 & non-farm/fish/forest: {drivers_more_than1_no_kids_occu}/{drivers_more_than1_no_kids_all_othr_occu} = {acceptance_rate5_ratio:.2%}\")\n"
   ]
  },
  {
   "cell_type": "markdown",
   "metadata": {
    "id": "n2LIUTil_qRK"
   },
   "source": [
    "6. Compare the acceptance rates between those drivers who:\n",
    "\n",
    "- go to bars more than once a month, had passengers that were not a kid, and were not widowed *OR*\n",
    "- go to bars more than once a month and are under the age of 30 *OR*\n",
    "- go to cheap restaurants more than 4 times a month and income is less than 50K.\n",
    "\n"
   ]
  },
  {
   "cell_type": "code",
   "execution_count": 18,
   "metadata": {
    "id": "aK_wEzx7_qRK"
   },
   "outputs": [
    {
     "name": "stdout",
     "output_type": "stream",
     "text": [
      "Compare Acceptance Rate: 973/1037 = 93.83%\n"
     ]
    }
   ],
   "source": [
    "\n",
    "\n",
    "## Drivers were not widowed\n",
    "drivers_marital_status = bar_coupons[\"maritalStatus\"].str.contains(\"Widowed\")\n",
    "#print(drivers_marital_status.sum())\n",
    "\n",
    "## Drivers go to bars more than once a month and are under the age of 30 \n",
    "drivers_under_age_30 = (pd.to_numeric(bar_coupons[\"age\"], errors=\"coerce\") < 30)\n",
    "#print(drivers_under_age_30.sum())\n",
    "\n",
    "## Drivers go to cheap restaurants more than 4 times a month\n",
    "more_than_4 = [\"gt8\", \"4~8\"]\n",
    "drivers_go_to_rest_20 = bar_coupons[\"RestaurantLessThan20\"].isin(more_than_1)\n",
    "#print(drivers_go_to_rest_20)\n",
    "\n",
    "## Drivers Income less than 50K \n",
    "bar_coupons = bar_coupons.copy()\n",
    "income_range = bar_coupons[\"income\"].astype(\"string\")\n",
    "\n",
    "def parse_salary_range(label: str):\n",
    "    s = label.replace(\",\", \"\").lower()\n",
    "    # finds all runs of digits in the string s\n",
    "    # converts each of those digit strings to integers.\n",
    "    nums = list(map(int, re.findall(r\"\\d+\", s)))\n",
    "    if s.startswith(\"less than\"):\n",
    "        return 0, nums[0]                 # [0, upper)\n",
    "    if \"or more\" in s:\n",
    "        return nums[0], np.inf            # [lower, ∞)\n",
    "    return nums[0], nums[1]               # [lower, upper]\n",
    "    \n",
    "# Expand the (lower, upper) into two columns and assign\n",
    "bar_coupons[[\"lower\", \"upper\"]] = income_range.apply(parse_salary_range).apply(pd.Series)\n",
    "\n",
    "#print(bar_coupons[[\"income\", \"lower\", \"upper\"]].head(10))\n",
    "\n",
    "mask_lt_50k = bar_coupons[\"upper\"] < 50000\n",
    "\n",
    "#print(mask_lt_50k)\n",
    "\n",
    "## Now process go to bars more than once a month, had passengers that were not a kid, and were not widowed OR\n",
    "## go to bars more than once a month and are under the age of 30 OR\n",
    "## go to cheap restaurants more than 4 times a month and income is less than 50K.\n",
    "\n",
    "acceptance_rate6 = (drivers_more_than1 & drivers_no_kids & drivers_marital_status) | (drivers_more_than1 & drivers_under_age_30) | (drivers_go_to_rest_20 & mask_lt_50k)\n",
    "\n",
    "not_acceptance_rate6 = ~acceptance_rate6\n",
    "\n",
    "#print(acceptance_rate6.sum())\n",
    "#print(not_acceptance_rate6.sum())\n",
    "\n",
    "acceptance_rate6_ratio = acceptance_rate6.sum()/not_acceptance_rate6.sum()\n",
    "\n",
    "print(f\"Compare Acceptance Rate: {acceptance_rate6.sum()}/{not_acceptance_rate6.sum()} = {acceptance_rate6_ratio:.2%}\")\n"
   ]
  },
  {
   "cell_type": "markdown",
   "metadata": {
    "id": "v3fL3QkO_qRK"
   },
   "source": [
    "7.  Based on these observations, what do you hypothesize about drivers who accepted the bar coupons?"
   ]
  },
  {
   "cell_type": "code",
   "execution_count": 19,
   "metadata": {
    "id": "Y48naDFh_qRL"
   },
   "outputs": [],
   "source": [
    "# Hypothesis: Habitual bar-goers (especially 25+ adults) drive acceptance\n",
    "\n",
    "# Drivers who visit bars regularly are the ones most likely to redeem bar coupons, with acceptance jumping from about 52.81% (<=3/month) to 76.88% (>3×/month). \n",
    "# Among people who go more than once a month, being over 25 further boosts acceptance to 69.97% versus 34.82% for everyone else. \n",
    "# In short, the coupon works best as a nudge for an existing habit rather than a trigger for a new behavior."
   ]
  },
  {
   "cell_type": "markdown",
   "metadata": {
    "id": "r4Hu1zOb_qRL"
   },
   "source": [
    "### Independent Investigation\n",
    "\n",
    "Using the bar coupon example as motivation, you are to explore one of the other coupon groups and try to determine the characteristics of passengers who accept the coupons.  "
   ]
  },
  {
   "cell_type": "code",
   "execution_count": 23,
   "metadata": {
    "id": "0c71cQhu_qRL",
    "scrolled": true
   },
   "outputs": [
    {
     "name": "stdout",
     "output_type": "stream",
     "text": [
      "Driver visiting less than 1, using coupons: 205/546 = 37.55%\n",
      "Driver visiting between 1 & 3, using coupons: 232/497 = 46.68%\n",
      "Driver visiting between 4 & 8, using coupons: 135/291 = 46.39%\n",
      "Driver visiting grater than 8, using coupons: 78/174 = 44.83%\n",
      "Overall Coffee House Coupon Acceptance: 650/1508 = 43.10%\n"
     ]
    }
   ],
   "source": [
    "# Coffee gowers visitied less1 and accepted copuon\n",
    "visits_less1 = [\"less1\"]\n",
    "coffee_coupon_less1 = ((bar_coupons[\"CoffeeHouse\"].isin(visits_less1)) & (bar_coupons[\"Y\"] == 1)).sum()\n",
    "#print(coffee_coupon_less1)\n",
    "\n",
    "total_coffee_visit_less1 = (bar_coupons[\"CoffeeHouse\"].isin(visits_less1)).sum()\n",
    "#print(total_coffee_visit_less1)\n",
    "\n",
    "acceptance_rate_less1 = coffee_coupon_less1/total_coffee_visit_less1\n",
    "\n",
    "print(f\"Driver visiting less than 1, using coupons: {coffee_coupon_less1}/{total_coffee_visit_less1} = {acceptance_rate_less1:.2%}\")\n",
    "\n",
    "# Coffee gowers visitied 1~3 and accepted copuon\n",
    "visits_1_3 = [\"1~3\"]\n",
    "coffee_coupon_1_3 = ((bar_coupons[\"CoffeeHouse\"].isin(visits_1_3)) & (bar_coupons[\"Y\"] == 1)).sum()\n",
    "#print(coffee_coupon_1_3)\n",
    "\n",
    "total_coffee_visit_1_3 = (bar_coupons[\"CoffeeHouse\"].isin(visits_1_3)).sum()\n",
    "#print(total_coffee_visit_1_3)\n",
    "\n",
    "acceptance_rate_1_3 = coffee_coupon_1_3/total_coffee_visit_1_3\n",
    "\n",
    "print(f\"Driver visiting between 1 & 3, using coupons: {coffee_coupon_1_3}/{total_coffee_visit_1_3} = {acceptance_rate_1_3:.2%}\")\n",
    "\n",
    "# Coffee gowers visitied 4~8 and accepted copuon\n",
    "visits_4_8 = [\"4~8\"]\n",
    "coffee_coupon_4_8 = ((bar_coupons[\"CoffeeHouse\"].isin(visits_4_8)) & (bar_coupons[\"Y\"] == 1)).sum()\n",
    "#print(coffee_coupon_4_8)\n",
    "\n",
    "total_coffee_visit_4_8 = (bar_coupons[\"CoffeeHouse\"].isin(visits_4_8)).sum()\n",
    "#print(total_coffee_visit_4_8)\n",
    "\n",
    "acceptance_rate_4_8 = coffee_coupon_4_8/total_coffee_visit_4_8\n",
    "\n",
    "print(f\"Driver visiting between 4 & 8, using coupons: {coffee_coupon_4_8}/{total_coffee_visit_4_8} = {acceptance_rate_4_8:.2%}\")\n",
    "\n",
    "# Coffee gowers visitied gt8 and accepted copuon\n",
    "visits_gt8 = [\"gt8\"]\n",
    "coffee_coupon_gt8 = ((bar_coupons[\"CoffeeHouse\"].isin(visits_gt8)) & (bar_coupons[\"Y\"] == 1)).sum()\n",
    "#print(coffee_coupon_gt8)\n",
    "\n",
    "total_coffee_visit_gt8 = (bar_coupons[\"CoffeeHouse\"].isin(visits_gt8)).sum()\n",
    "#print(total_coffee_visit_gt8)\n",
    "\n",
    "acceptance_rate_gt8 = coffee_coupon_gt8/total_coffee_visit_gt8\n",
    "\n",
    "print(f\"Driver visiting grater than 8, using coupons: {coffee_coupon_gt8}/{total_coffee_visit_gt8} = {acceptance_rate_gt8:.2%}\")\n",
    "\n",
    "# Acceptance rises sharply from infrequent coffee visitors to moderate ones, then flattens. \n",
    "# Drivers who visit <1/month accept the least (37.6%). \n",
    "# Acceptance jumps for 1–3/month (46.7%) and stays about the same for 4–8/month (46.4%). \n",
    "# For >8/month, it dips slightly (44.8%), but that group is also the smallest sample.\n",
    "\n",
    "## Overall acceptance\n",
    "total_visits = [\"less1\", \"1~3\", \"4~8\", \"gt8\"]\n",
    "\n",
    "total_coffee_visits = (bar_coupons[\"CoffeeHouse\"].isin(total_visits)).sum()\n",
    "#print(total_coffee_visits)\n",
    "\n",
    "total_coffee_visits_with_coupon = ((bar_coupons[\"CoffeeHouse\"].isin(total_visits)) & (bar_coupons[\"Y\"] == 1)).sum()\n",
    "#print(total_coffee_visits_with_coupon)\n",
    "\n",
    "acceptance_rate_coffee = total_coffee_visits_with_coupon/total_coffee_visits\n",
    "\n",
    "print(f\"Overall Coffee House Coupon Acceptance: {total_coffee_visits_with_coupon}/{total_coffee_visits} = {acceptance_rate_coffee:.2%}\")\n"
   ]
  },
  {
   "cell_type": "code",
   "execution_count": 77,
   "metadata": {},
   "outputs": [
    {
     "name": "stdout",
     "output_type": "stream",
     "text": [
      "2010\n",
      "824\n",
      "   time  visit_count  coupon_accepted  visit_percentage  \\\n",
      "0  10AM          443              160             22.04   \n",
      "1  10PM          399              183             19.85   \n",
      "2   2PM          118               40              5.87   \n",
      "3   6PM          563              263             28.01   \n",
      "4   7AM          487              178             24.23   \n",
      "\n",
      "   ovarall_accepted_coupon  per_time_accepted_coupon  \n",
      "0                    19.42                     36.12  \n",
      "1                    22.21                     45.86  \n",
      "2                     4.85                     33.90  \n",
      "3                    31.92                     46.71  \n",
      "4                    21.60                     36.55  \n"
     ]
    }
   ],
   "source": [
    "# Group by time with visit count and coupons accepted\n",
    "time_summary = (\n",
    "    bar_coupons.groupby(\"time\", dropna=False)\n",
    "        .agg(visit_count=(\"time\", \"size\"), coupon_accepted=(\"Y\", \"sum\"))\n",
    "        .reset_index()\n",
    ")\n",
    "\n",
    "# Total visit counts and coupon accepted\n",
    "total_visit_count = time_summary[\"visit_count\"].sum()\n",
    "total_coupon_accepted = time_summary[\"coupon_accepted\"].sum()\n",
    "\n",
    "#print(total_visit_count)\n",
    "#print(total_coupon_accepted)\n",
    "\n",
    "# Shares and acceptance rate\n",
    "time_summary[\"visit_percentage\"] = ((time_summary[\"visit_count\"] / total_visit_count) * 100 ).round(2)\n",
    "time_summary[\"ovarall_accepted_coupon\"] = ((time_summary[\"coupon_accepted\"] / total_coupon_accepted) * 100 ).round(2)\n",
    "time_summary[\"per_time_accepted_coupon\"] = ((time_summary[\"coupon_accepted\"] / time_summary[\"visit_count\"]) * 100 ).round(2)\n",
    "\n",
    "print(time_summary)\n"
   ]
  },
  {
   "cell_type": "code",
   "execution_count": 81,
   "metadata": {},
   "outputs": [
    {
     "name": "stdout",
     "output_type": "stream",
     "text": [
      "2010\n",
      "824\n",
      "   passanger  visit_count  coupon_accepted  visit_percentage  \\\n",
      "0      Alone         1198              488             59.60   \n",
      "1  Friend(s)          335              187             16.67   \n",
      "2     Kid(s)          204               43             10.15   \n",
      "3    Partner          273              106             13.58   \n",
      "\n",
      "   ovarall_accepted_coupon  per_passanger_accepted_coupon  \n",
      "0                    59.22                          40.73  \n",
      "1                    22.69                          55.82  \n",
      "2                     5.22                          21.08  \n",
      "3                    12.86                          38.83  \n"
     ]
    }
   ],
   "source": [
    "# Group by passenger with visit count and coupons accepted\n",
    "passanger_summary = (\n",
    "    bar_coupons.groupby(\"passanger\", dropna=False)\n",
    "        .agg(visit_count=(\"passanger\", \"size\"), coupon_accepted=(\"Y\", \"sum\"))\n",
    "        .reset_index()\n",
    ")\n",
    "\n",
    "# Total visit counts and coupon accepted\n",
    "total_visit_count = passanger_summary[\"visit_count\"].sum()\n",
    "total_coupon_accepted = passanger_summary[\"coupon_accepted\"].sum()\n",
    "\n",
    "#print(total_visit_count)\n",
    "#print(total_coupon_accepted)\n",
    "\n",
    "# Shares and acceptance rate\n",
    "passanger_summary[\"visit_percentage\"] = ((passanger_summary[\"visit_count\"] / total_visit_count) * 100 ).round(2)\n",
    "passanger_summary[\"ovarall_accepted_coupon\"] = ((passanger_summary[\"coupon_accepted\"] / total_coupon_accepted) * 100 ).round(2)\n",
    "passanger_summary[\"per_passanger_accepted_coupon\"] = ((passanger_summary[\"coupon_accepted\"] / passanger_summary[\"visit_count\"]) * 100 ).round(2)\n",
    "\n",
    "print(passanger_summary)"
   ]
  },
  {
   "cell_type": "code",
   "execution_count": 84,
   "metadata": {},
   "outputs": [
    {
     "name": "stdout",
     "output_type": "stream",
     "text": [
      "  expiration  visit_count  coupon_accepted  visit_percentage  \\\n",
      "0         1d         1553              640             77.26   \n",
      "1         2h          457              184             22.74   \n",
      "\n",
      "   ovarall_accepted_coupon  per_passanger_accepted_coupon  \n",
      "0                    77.67                          53.42  \n",
      "1                    22.33                          54.93  \n"
     ]
    }
   ],
   "source": [
    "# Group by expiration with visit count and coupons accepted\n",
    "expiration_summary = (\n",
    "    bar_coupons.groupby(\"expiration\", dropna=False)\n",
    "        .agg(visit_count=(\"expiration\", \"size\"), coupon_accepted=(\"Y\", \"sum\"))\n",
    "        .reset_index()\n",
    ")\n",
    "\n",
    "# Total visit counts and coupon accepted\n",
    "total_visit_count = expiration_summary[\"visit_count\"].sum()\n",
    "total_coupon_accepted = expiration_summary[\"coupon_accepted\"].sum()\n",
    "\n",
    "#print(total_visit_count)\n",
    "#print(total_coupon_accepted)\n",
    "\n",
    "# Shares and acceptance rate\n",
    "expiration_summary[\"visit_percentage\"] = ((expiration_summary[\"visit_count\"] / total_visit_count) * 100 ).round(2)\n",
    "expiration_summary[\"ovarall_accepted_coupon\"] = ((expiration_summary[\"coupon_accepted\"] / total_coupon_accepted) * 100 ).round(2)\n",
    "expiration_summary[\"per_passanger_accepted_coupon\"] = ((expiration_summary[\"coupon_accepted\"] / passanger_summary[\"visit_count\"]) * 100 ).round(2)\n",
    "\n",
    "print(expiration_summary)"
   ]
  },
  {
   "cell_type": "code",
   "execution_count": null,
   "metadata": {},
   "outputs": [],
   "source": []
  }
 ],
 "metadata": {
  "colab": {
   "provenance": []
  },
  "kernelspec": {
   "display_name": "Python 3 (ipykernel)",
   "language": "python",
   "name": "python3"
  },
  "language_info": {
   "codemirror_mode": {
    "name": "ipython",
    "version": 3
   },
   "file_extension": ".py",
   "mimetype": "text/x-python",
   "name": "python",
   "nbconvert_exporter": "python",
   "pygments_lexer": "ipython3",
   "version": "3.13.2"
  }
 },
 "nbformat": 4,
 "nbformat_minor": 4
}
